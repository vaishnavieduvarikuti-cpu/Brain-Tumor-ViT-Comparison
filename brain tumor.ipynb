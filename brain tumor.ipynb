{
  "nbformat": 4,
  "nbformat_minor": 0,
  "metadata": {
    "colab": {
      "provenance": [],
      "gpuType": "T4",
      "authorship_tag": "ABX9TyNXGP4qIVyznJhravaZ/Kvf",
      "include_colab_link": true
    },
    "kernelspec": {
      "name": "python3",
      "display_name": "Python 3"
    },
    "language_info": {
      "name": "python"
    },
    "accelerator": "GPU",
    "widgets": {
      "application/vnd.jupyter.widget-state+json": {
        "62073ae92a2e4e288971f42542ac18be": {
          "model_module": "@jupyter-widgets/controls",
          "model_name": "HBoxModel",
          "model_module_version": "1.5.0",
          "state": {
            "_dom_classes": [],
            "_model_module": "@jupyter-widgets/controls",
            "_model_module_version": "1.5.0",
            "_model_name": "HBoxModel",
            "_view_count": null,
            "_view_module": "@jupyter-widgets/controls",
            "_view_module_version": "1.5.0",
            "_view_name": "HBoxView",
            "box_style": "",
            "children": [
              "IPY_MODEL_7335dd0324e64526b401be7224c7fec8",
              "IPY_MODEL_196b51edb1e645e48b8e5c275af45733",
              "IPY_MODEL_da47efb0a5464218b33cc977dbea9fa6"
            ],
            "layout": "IPY_MODEL_9eb6c71bf8f94c3b97ce61e5101b4112"
          }
        },
        "7335dd0324e64526b401be7224c7fec8": {
          "model_module": "@jupyter-widgets/controls",
          "model_name": "HTMLModel",
          "model_module_version": "1.5.0",
          "state": {
            "_dom_classes": [],
            "_model_module": "@jupyter-widgets/controls",
            "_model_module_version": "1.5.0",
            "_model_name": "HTMLModel",
            "_view_count": null,
            "_view_module": "@jupyter-widgets/controls",
            "_view_module_version": "1.5.0",
            "_view_name": "HTMLView",
            "description": "",
            "description_tooltip": null,
            "layout": "IPY_MODEL_26030fa910e5407693faaeba0e74aca1",
            "placeholder": "​",
            "style": "IPY_MODEL_6357b673ac11471aa41866c03b9842dc",
            "value": "model.safetensors: 100%"
          }
        },
        "196b51edb1e645e48b8e5c275af45733": {
          "model_module": "@jupyter-widgets/controls",
          "model_name": "FloatProgressModel",
          "model_module_version": "1.5.0",
          "state": {
            "_dom_classes": [],
            "_model_module": "@jupyter-widgets/controls",
            "_model_module_version": "1.5.0",
            "_model_name": "FloatProgressModel",
            "_view_count": null,
            "_view_module": "@jupyter-widgets/controls",
            "_view_module_version": "1.5.0",
            "_view_name": "ProgressView",
            "bar_style": "success",
            "description": "",
            "description_tooltip": null,
            "layout": "IPY_MODEL_e2d2c1c986d6477982f7349181d2ff4a",
            "max": 114286722,
            "min": 0,
            "orientation": "horizontal",
            "style": "IPY_MODEL_0e9879ef6d894831bc792b8f847c4724",
            "value": 114286722
          }
        },
        "da47efb0a5464218b33cc977dbea9fa6": {
          "model_module": "@jupyter-widgets/controls",
          "model_name": "HTMLModel",
          "model_module_version": "1.5.0",
          "state": {
            "_dom_classes": [],
            "_model_module": "@jupyter-widgets/controls",
            "_model_module_version": "1.5.0",
            "_model_name": "HTMLModel",
            "_view_count": null,
            "_view_module": "@jupyter-widgets/controls",
            "_view_module_version": "1.5.0",
            "_view_name": "HTMLView",
            "description": "",
            "description_tooltip": null,
            "layout": "IPY_MODEL_6141a3097e2745a9a6b6566b607fca61",
            "placeholder": "​",
            "style": "IPY_MODEL_d7985f32faa640cd8a73136f093b87c6",
            "value": " 114M/114M [00:00&lt;00:00, 125MB/s]"
          }
        },
        "9eb6c71bf8f94c3b97ce61e5101b4112": {
          "model_module": "@jupyter-widgets/base",
          "model_name": "LayoutModel",
          "model_module_version": "1.2.0",
          "state": {
            "_model_module": "@jupyter-widgets/base",
            "_model_module_version": "1.2.0",
            "_model_name": "LayoutModel",
            "_view_count": null,
            "_view_module": "@jupyter-widgets/base",
            "_view_module_version": "1.2.0",
            "_view_name": "LayoutView",
            "align_content": null,
            "align_items": null,
            "align_self": null,
            "border": null,
            "bottom": null,
            "display": null,
            "flex": null,
            "flex_flow": null,
            "grid_area": null,
            "grid_auto_columns": null,
            "grid_auto_flow": null,
            "grid_auto_rows": null,
            "grid_column": null,
            "grid_gap": null,
            "grid_row": null,
            "grid_template_areas": null,
            "grid_template_columns": null,
            "grid_template_rows": null,
            "height": null,
            "justify_content": null,
            "justify_items": null,
            "left": null,
            "margin": null,
            "max_height": null,
            "max_width": null,
            "min_height": null,
            "min_width": null,
            "object_fit": null,
            "object_position": null,
            "order": null,
            "overflow": null,
            "overflow_x": null,
            "overflow_y": null,
            "padding": null,
            "right": null,
            "top": null,
            "visibility": null,
            "width": null
          }
        },
        "26030fa910e5407693faaeba0e74aca1": {
          "model_module": "@jupyter-widgets/base",
          "model_name": "LayoutModel",
          "model_module_version": "1.2.0",
          "state": {
            "_model_module": "@jupyter-widgets/base",
            "_model_module_version": "1.2.0",
            "_model_name": "LayoutModel",
            "_view_count": null,
            "_view_module": "@jupyter-widgets/base",
            "_view_module_version": "1.2.0",
            "_view_name": "LayoutView",
            "align_content": null,
            "align_items": null,
            "align_self": null,
            "border": null,
            "bottom": null,
            "display": null,
            "flex": null,
            "flex_flow": null,
            "grid_area": null,
            "grid_auto_columns": null,
            "grid_auto_flow": null,
            "grid_auto_rows": null,
            "grid_column": null,
            "grid_gap": null,
            "grid_row": null,
            "grid_template_areas": null,
            "grid_template_columns": null,
            "grid_template_rows": null,
            "height": null,
            "justify_content": null,
            "justify_items": null,
            "left": null,
            "margin": null,
            "max_height": null,
            "max_width": null,
            "min_height": null,
            "min_width": null,
            "object_fit": null,
            "object_position": null,
            "order": null,
            "overflow": null,
            "overflow_x": null,
            "overflow_y": null,
            "padding": null,
            "right": null,
            "top": null,
            "visibility": null,
            "width": null
          }
        },
        "6357b673ac11471aa41866c03b9842dc": {
          "model_module": "@jupyter-widgets/controls",
          "model_name": "DescriptionStyleModel",
          "model_module_version": "1.5.0",
          "state": {
            "_model_module": "@jupyter-widgets/controls",
            "_model_module_version": "1.5.0",
            "_model_name": "DescriptionStyleModel",
            "_view_count": null,
            "_view_module": "@jupyter-widgets/base",
            "_view_module_version": "1.2.0",
            "_view_name": "StyleView",
            "description_width": ""
          }
        },
        "e2d2c1c986d6477982f7349181d2ff4a": {
          "model_module": "@jupyter-widgets/base",
          "model_name": "LayoutModel",
          "model_module_version": "1.2.0",
          "state": {
            "_model_module": "@jupyter-widgets/base",
            "_model_module_version": "1.2.0",
            "_model_name": "LayoutModel",
            "_view_count": null,
            "_view_module": "@jupyter-widgets/base",
            "_view_module_version": "1.2.0",
            "_view_name": "LayoutView",
            "align_content": null,
            "align_items": null,
            "align_self": null,
            "border": null,
            "bottom": null,
            "display": null,
            "flex": null,
            "flex_flow": null,
            "grid_area": null,
            "grid_auto_columns": null,
            "grid_auto_flow": null,
            "grid_auto_rows": null,
            "grid_column": null,
            "grid_gap": null,
            "grid_row": null,
            "grid_template_areas": null,
            "grid_template_columns": null,
            "grid_template_rows": null,
            "height": null,
            "justify_content": null,
            "justify_items": null,
            "left": null,
            "margin": null,
            "max_height": null,
            "max_width": null,
            "min_height": null,
            "min_width": null,
            "object_fit": null,
            "object_position": null,
            "order": null,
            "overflow": null,
            "overflow_x": null,
            "overflow_y": null,
            "padding": null,
            "right": null,
            "top": null,
            "visibility": null,
            "width": null
          }
        },
        "0e9879ef6d894831bc792b8f847c4724": {
          "model_module": "@jupyter-widgets/controls",
          "model_name": "ProgressStyleModel",
          "model_module_version": "1.5.0",
          "state": {
            "_model_module": "@jupyter-widgets/controls",
            "_model_module_version": "1.5.0",
            "_model_name": "ProgressStyleModel",
            "_view_count": null,
            "_view_module": "@jupyter-widgets/base",
            "_view_module_version": "1.2.0",
            "_view_name": "StyleView",
            "bar_color": null,
            "description_width": ""
          }
        },
        "6141a3097e2745a9a6b6566b607fca61": {
          "model_module": "@jupyter-widgets/base",
          "model_name": "LayoutModel",
          "model_module_version": "1.2.0",
          "state": {
            "_model_module": "@jupyter-widgets/base",
            "_model_module_version": "1.2.0",
            "_model_name": "LayoutModel",
            "_view_count": null,
            "_view_module": "@jupyter-widgets/base",
            "_view_module_version": "1.2.0",
            "_view_name": "LayoutView",
            "align_content": null,
            "align_items": null,
            "align_self": null,
            "border": null,
            "bottom": null,
            "display": null,
            "flex": null,
            "flex_flow": null,
            "grid_area": null,
            "grid_auto_columns": null,
            "grid_auto_flow": null,
            "grid_auto_rows": null,
            "grid_column": null,
            "grid_gap": null,
            "grid_row": null,
            "grid_template_areas": null,
            "grid_template_columns": null,
            "grid_template_rows": null,
            "height": null,
            "justify_content": null,
            "justify_items": null,
            "left": null,
            "margin": null,
            "max_height": null,
            "max_width": null,
            "min_height": null,
            "min_width": null,
            "object_fit": null,
            "object_position": null,
            "order": null,
            "overflow": null,
            "overflow_x": null,
            "overflow_y": null,
            "padding": null,
            "right": null,
            "top": null,
            "visibility": null,
            "width": null
          }
        },
        "d7985f32faa640cd8a73136f093b87c6": {
          "model_module": "@jupyter-widgets/controls",
          "model_name": "DescriptionStyleModel",
          "model_module_version": "1.5.0",
          "state": {
            "_model_module": "@jupyter-widgets/controls",
            "_model_module_version": "1.5.0",
            "_model_name": "DescriptionStyleModel",
            "_view_count": null,
            "_view_module": "@jupyter-widgets/base",
            "_view_module_version": "1.2.0",
            "_view_name": "StyleView",
            "description_width": ""
          }
        }
      }
    }
  },
  "cells": [
    {
      "cell_type": "markdown",
      "metadata": {
        "id": "view-in-github",
        "colab_type": "text"
      },
      "source": [
        "<a href=\"https://colab.research.google.com/github/vaishnavieduvarikuti-cpu/Brain-Tumor-ViT-Comparison/blob/main/brain%20tumor.ipynb\" target=\"_parent\"><img src=\"https://colab.research.google.com/assets/colab-badge.svg\" alt=\"Open In Colab\"/></a>"
      ]
    },
    {
      "cell_type": "code",
      "source": [
        "from google.colab import files\n",
        "files.upload() # Upload your kaggle.json\n"
      ],
      "metadata": {
        "colab": {
          "base_uri": "https://localhost:8080/",
          "height": 90
        },
        "id": "gqEa9a53qx0R",
        "outputId": "42eb3962-a93f-4db4-a374-9669efef33ff"
      },
      "execution_count": 15,
      "outputs": [
        {
          "output_type": "display_data",
          "data": {
            "text/plain": [
              "<IPython.core.display.HTML object>"
            ],
            "text/html": [
              "\n",
              "     <input type=\"file\" id=\"files-39fe92ff-2199-4d02-81b0-7096e41fb6e8\" name=\"files[]\" multiple disabled\n",
              "        style=\"border:none\" />\n",
              "     <output id=\"result-39fe92ff-2199-4d02-81b0-7096e41fb6e8\">\n",
              "      Upload widget is only available when the cell has been executed in the\n",
              "      current browser session. Please rerun this cell to enable.\n",
              "      </output>\n",
              "      <script>// Copyright 2017 Google LLC\n",
              "//\n",
              "// Licensed under the Apache License, Version 2.0 (the \"License\");\n",
              "// you may not use this file except in compliance with the License.\n",
              "// You may obtain a copy of the License at\n",
              "//\n",
              "//      http://www.apache.org/licenses/LICENSE-2.0\n",
              "//\n",
              "// Unless required by applicable law or agreed to in writing, software\n",
              "// distributed under the License is distributed on an \"AS IS\" BASIS,\n",
              "// WITHOUT WARRANTIES OR CONDITIONS OF ANY KIND, either express or implied.\n",
              "// See the License for the specific language governing permissions and\n",
              "// limitations under the License.\n",
              "\n",
              "/**\n",
              " * @fileoverview Helpers for google.colab Python module.\n",
              " */\n",
              "(function(scope) {\n",
              "function span(text, styleAttributes = {}) {\n",
              "  const element = document.createElement('span');\n",
              "  element.textContent = text;\n",
              "  for (const key of Object.keys(styleAttributes)) {\n",
              "    element.style[key] = styleAttributes[key];\n",
              "  }\n",
              "  return element;\n",
              "}\n",
              "\n",
              "// Max number of bytes which will be uploaded at a time.\n",
              "const MAX_PAYLOAD_SIZE = 100 * 1024;\n",
              "\n",
              "function _uploadFiles(inputId, outputId) {\n",
              "  const steps = uploadFilesStep(inputId, outputId);\n",
              "  const outputElement = document.getElementById(outputId);\n",
              "  // Cache steps on the outputElement to make it available for the next call\n",
              "  // to uploadFilesContinue from Python.\n",
              "  outputElement.steps = steps;\n",
              "\n",
              "  return _uploadFilesContinue(outputId);\n",
              "}\n",
              "\n",
              "// This is roughly an async generator (not supported in the browser yet),\n",
              "// where there are multiple asynchronous steps and the Python side is going\n",
              "// to poll for completion of each step.\n",
              "// This uses a Promise to block the python side on completion of each step,\n",
              "// then passes the result of the previous step as the input to the next step.\n",
              "function _uploadFilesContinue(outputId) {\n",
              "  const outputElement = document.getElementById(outputId);\n",
              "  const steps = outputElement.steps;\n",
              "\n",
              "  const next = steps.next(outputElement.lastPromiseValue);\n",
              "  return Promise.resolve(next.value.promise).then((value) => {\n",
              "    // Cache the last promise value to make it available to the next\n",
              "    // step of the generator.\n",
              "    outputElement.lastPromiseValue = value;\n",
              "    return next.value.response;\n",
              "  });\n",
              "}\n",
              "\n",
              "/**\n",
              " * Generator function which is called between each async step of the upload\n",
              " * process.\n",
              " * @param {string} inputId Element ID of the input file picker element.\n",
              " * @param {string} outputId Element ID of the output display.\n",
              " * @return {!Iterable<!Object>} Iterable of next steps.\n",
              " */\n",
              "function* uploadFilesStep(inputId, outputId) {\n",
              "  const inputElement = document.getElementById(inputId);\n",
              "  inputElement.disabled = false;\n",
              "\n",
              "  const outputElement = document.getElementById(outputId);\n",
              "  outputElement.innerHTML = '';\n",
              "\n",
              "  const pickedPromise = new Promise((resolve) => {\n",
              "    inputElement.addEventListener('change', (e) => {\n",
              "      resolve(e.target.files);\n",
              "    });\n",
              "  });\n",
              "\n",
              "  const cancel = document.createElement('button');\n",
              "  inputElement.parentElement.appendChild(cancel);\n",
              "  cancel.textContent = 'Cancel upload';\n",
              "  const cancelPromise = new Promise((resolve) => {\n",
              "    cancel.onclick = () => {\n",
              "      resolve(null);\n",
              "    };\n",
              "  });\n",
              "\n",
              "  // Wait for the user to pick the files.\n",
              "  const files = yield {\n",
              "    promise: Promise.race([pickedPromise, cancelPromise]),\n",
              "    response: {\n",
              "      action: 'starting',\n",
              "    }\n",
              "  };\n",
              "\n",
              "  cancel.remove();\n",
              "\n",
              "  // Disable the input element since further picks are not allowed.\n",
              "  inputElement.disabled = true;\n",
              "\n",
              "  if (!files) {\n",
              "    return {\n",
              "      response: {\n",
              "        action: 'complete',\n",
              "      }\n",
              "    };\n",
              "  }\n",
              "\n",
              "  for (const file of files) {\n",
              "    const li = document.createElement('li');\n",
              "    li.append(span(file.name, {fontWeight: 'bold'}));\n",
              "    li.append(span(\n",
              "        `(${file.type || 'n/a'}) - ${file.size} bytes, ` +\n",
              "        `last modified: ${\n",
              "            file.lastModifiedDate ? file.lastModifiedDate.toLocaleDateString() :\n",
              "                                    'n/a'} - `));\n",
              "    const percent = span('0% done');\n",
              "    li.appendChild(percent);\n",
              "\n",
              "    outputElement.appendChild(li);\n",
              "\n",
              "    const fileDataPromise = new Promise((resolve) => {\n",
              "      const reader = new FileReader();\n",
              "      reader.onload = (e) => {\n",
              "        resolve(e.target.result);\n",
              "      };\n",
              "      reader.readAsArrayBuffer(file);\n",
              "    });\n",
              "    // Wait for the data to be ready.\n",
              "    let fileData = yield {\n",
              "      promise: fileDataPromise,\n",
              "      response: {\n",
              "        action: 'continue',\n",
              "      }\n",
              "    };\n",
              "\n",
              "    // Use a chunked sending to avoid message size limits. See b/62115660.\n",
              "    let position = 0;\n",
              "    do {\n",
              "      const length = Math.min(fileData.byteLength - position, MAX_PAYLOAD_SIZE);\n",
              "      const chunk = new Uint8Array(fileData, position, length);\n",
              "      position += length;\n",
              "\n",
              "      const base64 = btoa(String.fromCharCode.apply(null, chunk));\n",
              "      yield {\n",
              "        response: {\n",
              "          action: 'append',\n",
              "          file: file.name,\n",
              "          data: base64,\n",
              "        },\n",
              "      };\n",
              "\n",
              "      let percentDone = fileData.byteLength === 0 ?\n",
              "          100 :\n",
              "          Math.round((position / fileData.byteLength) * 100);\n",
              "      percent.textContent = `${percentDone}% done`;\n",
              "\n",
              "    } while (position < fileData.byteLength);\n",
              "  }\n",
              "\n",
              "  // All done.\n",
              "  yield {\n",
              "    response: {\n",
              "      action: 'complete',\n",
              "    }\n",
              "  };\n",
              "}\n",
              "\n",
              "scope.google = scope.google || {};\n",
              "scope.google.colab = scope.google.colab || {};\n",
              "scope.google.colab._files = {\n",
              "  _uploadFiles,\n",
              "  _uploadFilesContinue,\n",
              "};\n",
              "})(self);\n",
              "</script> "
            ]
          },
          "metadata": {}
        },
        {
          "output_type": "stream",
          "name": "stdout",
          "text": [
            "Saving kaggle (1).json to kaggle (1).json\n"
          ]
        },
        {
          "output_type": "execute_result",
          "data": {
            "text/plain": [
              "{'kaggle (1).json': b'{\"username\":\"srivaishu006\",\"key\":\"bf6f15a8bdd7ee2e54639af400da6a96\"}'}"
            ]
          },
          "metadata": {},
          "execution_count": 15
        }
      ]
    },
    {
      "cell_type": "code",
      "source": [
        "!mkdir -p ~/.kaggle\n",
        "!mv kaggle.json ~/.kaggle/\n",
        "!chmod 600 ~/.kaggle/kaggle.json\n",
        "!kaggle datasets download -d masoudnickparvar/brain-tumor-mri-dataset -p /content/dataset --unzip"
      ],
      "metadata": {
        "colab": {
          "base_uri": "https://localhost:8080/"
        },
        "id": "kNCasaykq15j",
        "outputId": "3ea69b3e-02d6-41db-f1f2-f81f75c19931"
      },
      "execution_count": 16,
      "outputs": [
        {
          "output_type": "stream",
          "name": "stdout",
          "text": [
            "mv: cannot stat 'kaggle.json': No such file or directory\n",
            "Dataset URL: https://www.kaggle.com/datasets/masoudnickparvar/brain-tumor-mri-dataset\n",
            "License(s): CC0-1.0\n",
            "Downloading brain-tumor-mri-dataset.zip to /content/dataset\n",
            " 95% 141M/149M [00:00<00:00, 1.47GB/s]\n",
            "100% 149M/149M [00:00<00:00, 1.36GB/s]\n"
          ]
        }
      ]
    },
    {
      "cell_type": "code",
      "source": [
        "# ===================================================================\n",
        "# FINAL CORRECTED ALL-IN-ONE CODE BLOCK\n",
        "# ===================================================================\n",
        "\n",
        "# --- CELL 1: IMPORTS ---\n",
        "import os\n",
        "import torch\n",
        "import timm\n",
        "import pandas as pd\n",
        "import torch.nn as nn\n",
        "import torch.optim as optim\n",
        "from torchvision import transforms\n",
        "from torch.utils.data import Dataset, DataLoader\n",
        "from sklearn.model_selection import train_test_split\n",
        "from PIL import Image\n",
        "from tqdm import tqdm\n",
        "\n",
        "print(\"--- Step 1: Libraries Imported ---\")\n",
        "\n",
        "# --- CELL 2: CONFIGURATION ---\n",
        "DATA_DIR = '/content/dataset/Training/'\n",
        "TEST_DIR = '/content/dataset/Testing/'\n",
        "IMAGE_SIZE = 224\n",
        "BATCH_SIZE = 8 # <<< FINAL CHANGE TO FIX MEMORY ERROR\n",
        "EPOCHS = 20\n",
        "device = torch.device(\"cuda\" if torch.cuda.is_available() else \"cpu\")\n",
        "print(f\"--- Step 2: Configuration Set (Using device: {device}, Batch Size: {BATCH_SIZE}) ---\")\n",
        "\n",
        "# --- CELL 3: DATA LOADING ---\n",
        "def load_data(data_dir):\n",
        "    image_paths, labels = [], []\n",
        "    class_names = sorted(os.listdir(data_dir))\n",
        "    label_map = {name: i for i, name in enumerate(class_names)}\n",
        "    for class_name in class_names:\n",
        "        class_dir = os.path.join(data_dir, class_name)\n",
        "        for filename in os.listdir(class_dir):\n",
        "            if filename.lower().endswith(('.png', '.jpg', '.jpeg')):\n",
        "                image_paths.append(os.path.join(class_dir, filename))\n",
        "                labels.append(label_map[class_name])\n",
        "    return pd.DataFrame({'filepath': image_paths, 'label': labels}), label_map\n",
        "\n",
        "train_val_df, label_map = load_data(DATA_DIR)\n",
        "train_df, val_df = train_test_split(train_val_df, test_size=0.2, random_state=42, stratify=train_val_df['label'])\n",
        "print(\"--- Step 3: Data Loaded and Split ---\")\n",
        "\n",
        "# --- CELL 4: PREPROCESSING & DATASETS ---\n",
        "IMAGENET_MEAN = [0.485, 0.456, 0.46]\n",
        "IMAGENET_STD = [0.229, 0.224, 0.225]\n",
        "train_transform = transforms.Compose([\n",
        "    transforms.Resize((IMAGE_SIZE, IMAGE_SIZE)), transforms.RandomRotation(20),\n",
        "    transforms.RandomHorizontalFlip(), transforms.ColorJitter(brightness=0.1, contrast=0.1),\n",
        "    transforms.ToTensor(), transforms.Normalize(mean=IMAGENET_MEAN, std=IMAGENET_STD)\n",
        "])\n",
        "val_test_transform = transforms.Compose([\n",
        "    transforms.Resize((IMAGE_SIZE, IMAGE_SIZE)), transforms.ToTensor(),\n",
        "    transforms.Normalize(mean=IMAGENET_MEAN, std=IMAGENET_STD)\n",
        "])\n",
        "class TumorDataset(Dataset):\n",
        "    def __init__(self, dataframe, transform=None):\n",
        "        self.df, self.transform = dataframe, transform\n",
        "    def __len__(self):\n",
        "        return len(self.df)\n",
        "    def __getitem__(self, idx):\n",
        "        img_path, label = self.df.iloc[idx]['filepath'], self.df.iloc[idx]['label']\n",
        "        image = Image.open(img_path).convert(\"RGB\")\n",
        "        if self.transform: image = self.transform(image)\n",
        "        return image, torch.tensor(label, dtype=torch.long)\n",
        "train_dataset = TumorDataset(train_df, transform=train_transform)\n",
        "val_dataset = TumorDataset(val_df, transform=val_test_transform)\n",
        "train_loader = DataLoader(train_dataset, batch_size=BATCH_SIZE, shuffle=True, num_workers=2)\n",
        "val_loader = DataLoader(val_dataset, batch_size=BATCH_SIZE, shuffle=False, num_workers=2)\n",
        "print(\"--- Step 4: DataLoaders Ready ---\")\n",
        "\n",
        "# --- CELL 5: TRAINING FUNCTION ---\n",
        "def train_model(model, model_name, train_loader, val_loader, epochs, learning_rate):\n",
        "    criterion = nn.CrossEntropyLoss()\n",
        "    optimizer = optim.AdamW(model.parameters(), lr=learning_rate)\n",
        "    best_val_accuracy = 0.0\n",
        "    for epoch in range(epochs):\n",
        "        model.train()\n",
        "        print(f\"\\nEpoch {epoch+1}/{epochs}\")\n",
        "        for images, labels in tqdm(train_loader, desc=\"Training\"):\n",
        "            images, labels = images.to(device), labels.to(device)\n",
        "            optimizer.zero_grad()\n",
        "            outputs = model(images)\n",
        "            loss = criterion(outputs, labels)\n",
        "            loss.backward()\n",
        "            optimizer.step()\n",
        "        model.eval()\n",
        "        correct_val = 0\n",
        "        with torch.no_grad():\n",
        "            for images, labels in tqdm(val_loader, desc=\"Validation\"):\n",
        "                images, labels = images.to(device), labels.to(device)\n",
        "                outputs = model(images)\n",
        "                _, predicted = torch.max(outputs.data, 1)\n",
        "                correct_val += (predicted == labels).sum().item()\n",
        "        val_accuracy = correct_val / len(val_loader.dataset)\n",
        "        print(f\"Validation Accuracy: {val_accuracy:.4f}\")\n",
        "        if val_accuracy > best_val_accuracy:\n",
        "            best_val_accuracy = val_accuracy\n",
        "            torch.save(model.state_dict(), f'/content/{model_name}_best.pth')\n",
        "            print(f\"----> New best model saved\")\n",
        "    print(f\"\\nFinished Training for {model_name}!\")\n",
        "    return best_val_accuracy\n",
        "print(\"--- Step 5: Training Function Defined ---\")\n",
        "\n",
        "# --- FINAL STEP: TRAIN THE TINY MAXVIT MODEL ---\n",
        "print(\"\\n--- Starting Final Step: Training the Tiny MaxViT Model ---\")\n",
        "maxvit_model_name = 'maxvit_tiny_tf_224'\n",
        "maxvit_model = timm.create_model(maxvit_model_name, pretrained=True, num_classes=len(label_map))\n",
        "maxvit_model.to(device)\n",
        "maxvit_accuracy = train_model(maxvit_model, maxvit_model_name, train_loader, val_loader, EPOCHS, 1e-5)\n",
        "print(f\"\\nBest Validation Accuracy for Tiny MaxViT: {maxvit_accuracy:.4f}\")"
      ],
      "metadata": {
        "colab": {
          "base_uri": "https://localhost:8080/"
        },
        "id": "-TJhE5Erq-4y",
        "outputId": "f45534a8-060c-4167-b53f-46f87f40eff3"
      },
      "execution_count": 18,
      "outputs": [
        {
          "output_type": "stream",
          "name": "stdout",
          "text": [
            "--- Step 1: Libraries Imported ---\n",
            "--- Step 2: Configuration Set (Using device: cuda, Batch Size: 8) ---\n",
            "--- Step 3: Data Loaded and Split ---\n",
            "--- Step 4: DataLoaders Ready ---\n",
            "--- Step 5: Training Function Defined ---\n",
            "\n",
            "--- Starting Final Step: Training the Tiny MaxViT Model ---\n",
            "\n",
            "Epoch 1/20\n"
          ]
        },
        {
          "output_type": "stream",
          "name": "stderr",
          "text": [
            "Training: 100%|██████████| 572/572 [01:49<00:00,  5.22it/s]\n",
            "Validation: 100%|██████████| 143/143 [00:08<00:00, 16.01it/s]\n"
          ]
        },
        {
          "output_type": "stream",
          "name": "stdout",
          "text": [
            "Validation Accuracy: 0.8880\n",
            "----> New best model saved\n",
            "\n",
            "Epoch 2/20\n"
          ]
        },
        {
          "output_type": "stream",
          "name": "stderr",
          "text": [
            "Training: 100%|██████████| 572/572 [01:48<00:00,  5.29it/s]\n",
            "Validation: 100%|██████████| 143/143 [00:09<00:00, 15.04it/s]\n"
          ]
        },
        {
          "output_type": "stream",
          "name": "stdout",
          "text": [
            "Validation Accuracy: 0.9501\n",
            "----> New best model saved\n",
            "\n",
            "Epoch 3/20\n"
          ]
        },
        {
          "output_type": "stream",
          "name": "stderr",
          "text": [
            "Training: 100%|██████████| 572/572 [01:48<00:00,  5.29it/s]\n",
            "Validation: 100%|██████████| 143/143 [00:08<00:00, 16.26it/s]\n"
          ]
        },
        {
          "output_type": "stream",
          "name": "stdout",
          "text": [
            "Validation Accuracy: 0.9571\n",
            "----> New best model saved\n",
            "\n",
            "Epoch 4/20\n"
          ]
        },
        {
          "output_type": "stream",
          "name": "stderr",
          "text": [
            "Training: 100%|██████████| 572/572 [01:48<00:00,  5.30it/s]\n",
            "Validation: 100%|██████████| 143/143 [00:09<00:00, 15.04it/s]\n"
          ]
        },
        {
          "output_type": "stream",
          "name": "stdout",
          "text": [
            "Validation Accuracy: 0.9738\n",
            "----> New best model saved\n",
            "\n",
            "Epoch 5/20\n"
          ]
        },
        {
          "output_type": "stream",
          "name": "stderr",
          "text": [
            "Training: 100%|██████████| 572/572 [01:47<00:00,  5.30it/s]\n",
            "Validation: 100%|██████████| 143/143 [00:08<00:00, 16.22it/s]\n"
          ]
        },
        {
          "output_type": "stream",
          "name": "stdout",
          "text": [
            "Validation Accuracy: 0.9729\n",
            "\n",
            "Epoch 6/20\n"
          ]
        },
        {
          "output_type": "stream",
          "name": "stderr",
          "text": [
            "Training: 100%|██████████| 572/572 [01:48<00:00,  5.28it/s]\n",
            "Validation: 100%|██████████| 143/143 [00:09<00:00, 15.14it/s]\n"
          ]
        },
        {
          "output_type": "stream",
          "name": "stdout",
          "text": [
            "Validation Accuracy: 0.9720\n",
            "\n",
            "Epoch 7/20\n"
          ]
        },
        {
          "output_type": "stream",
          "name": "stderr",
          "text": [
            "Training: 100%|██████████| 572/572 [01:48<00:00,  5.30it/s]\n",
            "Validation: 100%|██████████| 143/143 [00:08<00:00, 16.29it/s]\n"
          ]
        },
        {
          "output_type": "stream",
          "name": "stdout",
          "text": [
            "Validation Accuracy: 0.9834\n",
            "----> New best model saved\n",
            "\n",
            "Epoch 8/20\n"
          ]
        },
        {
          "output_type": "stream",
          "name": "stderr",
          "text": [
            "Training: 100%|██████████| 572/572 [01:48<00:00,  5.28it/s]\n",
            "Validation: 100%|██████████| 143/143 [00:09<00:00, 15.04it/s]\n"
          ]
        },
        {
          "output_type": "stream",
          "name": "stdout",
          "text": [
            "Validation Accuracy: 0.9860\n",
            "----> New best model saved\n",
            "\n",
            "Epoch 9/20\n"
          ]
        },
        {
          "output_type": "stream",
          "name": "stderr",
          "text": [
            "Training: 100%|██████████| 572/572 [01:47<00:00,  5.30it/s]\n",
            "Validation: 100%|██████████| 143/143 [00:08<00:00, 16.21it/s]\n"
          ]
        },
        {
          "output_type": "stream",
          "name": "stdout",
          "text": [
            "Validation Accuracy: 0.9808\n",
            "\n",
            "Epoch 10/20\n"
          ]
        },
        {
          "output_type": "stream",
          "name": "stderr",
          "text": [
            "Training: 100%|██████████| 572/572 [01:47<00:00,  5.30it/s]\n",
            "Validation: 100%|██████████| 143/143 [00:09<00:00, 15.21it/s]\n"
          ]
        },
        {
          "output_type": "stream",
          "name": "stdout",
          "text": [
            "Validation Accuracy: 0.9851\n",
            "\n",
            "Epoch 11/20\n"
          ]
        },
        {
          "output_type": "stream",
          "name": "stderr",
          "text": [
            "Training: 100%|██████████| 572/572 [01:48<00:00,  5.27it/s]\n",
            "Validation: 100%|██████████| 143/143 [00:08<00:00, 16.19it/s]\n"
          ]
        },
        {
          "output_type": "stream",
          "name": "stdout",
          "text": [
            "Validation Accuracy: 0.9869\n",
            "----> New best model saved\n",
            "\n",
            "Epoch 12/20\n"
          ]
        },
        {
          "output_type": "stream",
          "name": "stderr",
          "text": [
            "Training: 100%|██████████| 572/572 [01:48<00:00,  5.28it/s]\n",
            "Validation: 100%|██████████| 143/143 [00:09<00:00, 15.00it/s]\n"
          ]
        },
        {
          "output_type": "stream",
          "name": "stdout",
          "text": [
            "Validation Accuracy: 0.9851\n",
            "\n",
            "Epoch 13/20\n"
          ]
        },
        {
          "output_type": "stream",
          "name": "stderr",
          "text": [
            "Training: 100%|██████████| 572/572 [01:48<00:00,  5.29it/s]\n",
            "Validation: 100%|██████████| 143/143 [00:08<00:00, 16.29it/s]\n"
          ]
        },
        {
          "output_type": "stream",
          "name": "stdout",
          "text": [
            "Validation Accuracy: 0.9878\n",
            "----> New best model saved\n",
            "\n",
            "Epoch 14/20\n"
          ]
        },
        {
          "output_type": "stream",
          "name": "stderr",
          "text": [
            "Training: 100%|██████████| 572/572 [01:48<00:00,  5.27it/s]\n",
            "Validation: 100%|██████████| 143/143 [00:09<00:00, 15.04it/s]\n"
          ]
        },
        {
          "output_type": "stream",
          "name": "stdout",
          "text": [
            "Validation Accuracy: 0.9834\n",
            "\n",
            "Epoch 15/20\n"
          ]
        },
        {
          "output_type": "stream",
          "name": "stderr",
          "text": [
            "Training: 100%|██████████| 572/572 [01:48<00:00,  5.29it/s]\n",
            "Validation: 100%|██████████| 143/143 [00:08<00:00, 15.94it/s]\n"
          ]
        },
        {
          "output_type": "stream",
          "name": "stdout",
          "text": [
            "Validation Accuracy: 0.9808\n",
            "\n",
            "Epoch 16/20\n"
          ]
        },
        {
          "output_type": "stream",
          "name": "stderr",
          "text": [
            "Training: 100%|██████████| 572/572 [01:48<00:00,  5.30it/s]\n",
            "Validation: 100%|██████████| 143/143 [00:09<00:00, 14.89it/s]\n"
          ]
        },
        {
          "output_type": "stream",
          "name": "stdout",
          "text": [
            "Validation Accuracy: 0.9878\n",
            "\n",
            "Epoch 17/20\n"
          ]
        },
        {
          "output_type": "stream",
          "name": "stderr",
          "text": [
            "Training: 100%|██████████| 572/572 [01:48<00:00,  5.28it/s]\n",
            "Validation: 100%|██████████| 143/143 [00:09<00:00, 15.71it/s]\n"
          ]
        },
        {
          "output_type": "stream",
          "name": "stdout",
          "text": [
            "Validation Accuracy: 0.9860\n",
            "\n",
            "Epoch 18/20\n"
          ]
        },
        {
          "output_type": "stream",
          "name": "stderr",
          "text": [
            "Training: 100%|██████████| 572/572 [01:48<00:00,  5.29it/s]\n",
            "Validation: 100%|██████████| 143/143 [00:09<00:00, 15.13it/s]\n"
          ]
        },
        {
          "output_type": "stream",
          "name": "stdout",
          "text": [
            "Validation Accuracy: 0.9834\n",
            "\n",
            "Epoch 19/20\n"
          ]
        },
        {
          "output_type": "stream",
          "name": "stderr",
          "text": [
            "Training: 100%|██████████| 572/572 [01:47<00:00,  5.31it/s]\n",
            "Validation: 100%|██████████| 143/143 [00:08<00:00, 16.08it/s]\n"
          ]
        },
        {
          "output_type": "stream",
          "name": "stdout",
          "text": [
            "Validation Accuracy: 0.9878\n",
            "\n",
            "Epoch 20/20\n"
          ]
        },
        {
          "output_type": "stream",
          "name": "stderr",
          "text": [
            "Training: 100%|██████████| 572/572 [01:48<00:00,  5.28it/s]\n",
            "Validation: 100%|██████████| 143/143 [00:09<00:00, 15.06it/s]"
          ]
        },
        {
          "output_type": "stream",
          "name": "stdout",
          "text": [
            "Validation Accuracy: 0.9843\n",
            "\n",
            "Finished Training for maxvit_tiny_tf_224!\n",
            "\n",
            "Best Validation Accuracy for Tiny MaxViT: 0.9878\n"
          ]
        },
        {
          "output_type": "stream",
          "name": "stderr",
          "text": [
            "\n"
          ]
        }
      ]
    },
    {
      "cell_type": "code",
      "source": [
        "# --- FINAL STEP: TRAIN THE TINY SWIN TRANSFORMER ---\n",
        "print(\"\\n--- Starting Final Step: Training the Tiny Swin Transformer ---\")\n",
        "# NOTE: We are using the 'tiny' Swin model for a fair comparison and to avoid memory errors\n",
        "swin_model_name = 'swin_tiny_patch4_window7_224'\n",
        "\n",
        "swin_model = timm.create_model(swin_model_name, pretrained=True, num_classes=len(label_map))\n",
        "swin_model.to(device)\n",
        "\n",
        "swin_accuracy = train_model(\n",
        "    model=swin_model,\n",
        "    model_name=swin_model_name,\n",
        "    train_loader=train_loader,\n",
        "    val_loader=val_loader,\n",
        "    epochs=EPOCHS,\n",
        "    learning_rate=1e-5\n",
        ")\n",
        "\n",
        "print(f\"\\nBest Validation Accuracy for Tiny Swin Transformer: {swin_accuracy:.4f}\")"
      ],
      "metadata": {
        "colab": {
          "base_uri": "https://localhost:8080/",
          "height": 1000,
          "referenced_widgets": [
            "62073ae92a2e4e288971f42542ac18be",
            "7335dd0324e64526b401be7224c7fec8",
            "196b51edb1e645e48b8e5c275af45733",
            "da47efb0a5464218b33cc977dbea9fa6",
            "9eb6c71bf8f94c3b97ce61e5101b4112",
            "26030fa910e5407693faaeba0e74aca1",
            "6357b673ac11471aa41866c03b9842dc",
            "e2d2c1c986d6477982f7349181d2ff4a",
            "0e9879ef6d894831bc792b8f847c4724",
            "6141a3097e2745a9a6b6566b607fca61",
            "d7985f32faa640cd8a73136f093b87c6"
          ]
        },
        "id": "Zc4f3ZSM2osG",
        "outputId": "1fb09942-bdb9-4de3-da62-d9cfda12f687"
      },
      "execution_count": 19,
      "outputs": [
        {
          "metadata": {
            "tags": null
          },
          "name": "stdout",
          "output_type": "stream",
          "text": [
            "\n",
            "--- Starting Final Step: Training the Tiny Swin Transformer ---\n"
          ]
        },
        {
          "data": {
            "application/vnd.jupyter.widget-view+json": {
              "model_id": "62073ae92a2e4e288971f42542ac18be",
              "version_major": 2,
              "version_minor": 0
            },
            "text/plain": [
              "model.safetensors:   0%|          | 0.00/114M [00:00<?, ?B/s]"
            ]
          },
          "metadata": {},
          "output_type": "display_data"
        },
        {
          "metadata": {
            "tags": null
          },
          "name": "stdout",
          "output_type": "stream",
          "text": [
            "\n",
            "Epoch 1/20\n"
          ]
        },
        {
          "metadata": {
            "tags": null
          },
          "name": "stderr",
          "output_type": "stream",
          "text": [
            "Training: 100%|██████████| 572/572 [01:02<00:00,  9.11it/s]\n",
            "Validation: 100%|██████████| 143/143 [00:06<00:00, 23.82it/s]\n"
          ]
        },
        {
          "metadata": {
            "tags": null
          },
          "name": "stdout",
          "output_type": "stream",
          "text": [
            "Validation Accuracy: 0.9475\n",
            "----> New best model saved\n",
            "\n",
            "Epoch 2/20\n"
          ]
        },
        {
          "metadata": {
            "tags": null
          },
          "name": "stderr",
          "output_type": "stream",
          "text": [
            "Training: 100%|██████████| 572/572 [01:01<00:00,  9.26it/s]\n",
            "Validation: 100%|██████████| 143/143 [00:07<00:00, 20.18it/s]\n"
          ]
        },
        {
          "metadata": {
            "tags": null
          },
          "name": "stdout",
          "output_type": "stream",
          "text": [
            "Validation Accuracy: 0.9773\n",
            "----> New best model saved\n",
            "\n",
            "Epoch 3/20\n"
          ]
        },
        {
          "metadata": {
            "tags": null
          },
          "name": "stderr",
          "output_type": "stream",
          "text": [
            "Training: 100%|██████████| 572/572 [01:01<00:00,  9.30it/s]\n",
            "Validation: 100%|██████████| 143/143 [00:05<00:00, 23.86it/s]\n"
          ]
        },
        {
          "metadata": {
            "tags": null
          },
          "name": "stdout",
          "output_type": "stream",
          "text": [
            "Validation Accuracy: 0.9764\n",
            "\n",
            "Epoch 4/20\n"
          ]
        },
        {
          "metadata": {
            "tags": null
          },
          "name": "stderr",
          "output_type": "stream",
          "text": [
            "Training: 100%|██████████| 572/572 [01:01<00:00,  9.28it/s]\n",
            "Validation: 100%|██████████| 143/143 [00:06<00:00, 21.00it/s]\n"
          ]
        },
        {
          "metadata": {
            "tags": null
          },
          "name": "stdout",
          "output_type": "stream",
          "text": [
            "Validation Accuracy: 0.9746\n",
            "\n",
            "Epoch 5/20\n"
          ]
        },
        {
          "metadata": {
            "tags": null
          },
          "name": "stderr",
          "output_type": "stream",
          "text": [
            "Training: 100%|██████████| 572/572 [01:01<00:00,  9.32it/s]\n",
            "Validation: 100%|██████████| 143/143 [00:06<00:00, 21.57it/s]\n"
          ]
        },
        {
          "metadata": {
            "tags": null
          },
          "name": "stdout",
          "output_type": "stream",
          "text": [
            "Validation Accuracy: 0.9843\n",
            "----> New best model saved\n",
            "\n",
            "Epoch 6/20\n"
          ]
        },
        {
          "metadata": {
            "tags": null
          },
          "name": "stderr",
          "output_type": "stream",
          "text": [
            "Training: 100%|██████████| 572/572 [01:01<00:00,  9.26it/s]\n",
            "Validation: 100%|██████████| 143/143 [00:06<00:00, 22.71it/s]\n"
          ]
        },
        {
          "metadata": {
            "tags": null
          },
          "name": "stdout",
          "output_type": "stream",
          "text": [
            "Validation Accuracy: 0.9816\n",
            "\n",
            "Epoch 7/20\n"
          ]
        },
        {
          "metadata": {
            "tags": null
          },
          "name": "stderr",
          "output_type": "stream",
          "text": [
            "Training: 100%|██████████| 572/572 [01:01<00:00,  9.27it/s]\n",
            "Validation: 100%|██████████| 143/143 [00:07<00:00, 20.36it/s]\n"
          ]
        },
        {
          "metadata": {
            "tags": null
          },
          "name": "stdout",
          "output_type": "stream",
          "text": [
            "Validation Accuracy: 0.9816\n",
            "\n",
            "Epoch 8/20\n"
          ]
        },
        {
          "metadata": {
            "tags": null
          },
          "name": "stderr",
          "output_type": "stream",
          "text": [
            "Training: 100%|██████████| 572/572 [01:01<00:00,  9.27it/s]\n",
            "Validation: 100%|██████████| 143/143 [00:06<00:00, 23.64it/s]\n"
          ]
        },
        {
          "metadata": {
            "tags": null
          },
          "name": "stdout",
          "output_type": "stream",
          "text": [
            "Validation Accuracy: 0.9755\n",
            "\n",
            "Epoch 9/20\n"
          ]
        },
        {
          "metadata": {
            "tags": null
          },
          "name": "stderr",
          "output_type": "stream",
          "text": [
            "Training: 100%|██████████| 572/572 [01:01<00:00,  9.26it/s]\n",
            "Validation: 100%|██████████| 143/143 [00:07<00:00, 20.21it/s]\n"
          ]
        },
        {
          "metadata": {
            "tags": null
          },
          "name": "stdout",
          "output_type": "stream",
          "text": [
            "Validation Accuracy: 0.9930\n",
            "----> New best model saved\n",
            "\n",
            "Epoch 10/20\n"
          ]
        },
        {
          "metadata": {
            "tags": null
          },
          "name": "stderr",
          "output_type": "stream",
          "text": [
            "Training: 100%|██████████| 572/572 [01:01<00:00,  9.28it/s]\n",
            "Validation: 100%|██████████| 143/143 [00:06<00:00, 23.53it/s]\n"
          ]
        },
        {
          "metadata": {
            "tags": null
          },
          "name": "stdout",
          "output_type": "stream",
          "text": [
            "Validation Accuracy: 0.9913\n",
            "\n",
            "Epoch 11/20\n"
          ]
        },
        {
          "metadata": {
            "tags": null
          },
          "name": "stderr",
          "output_type": "stream",
          "text": [
            "Training: 100%|██████████| 572/572 [01:01<00:00,  9.30it/s]\n",
            "Validation: 100%|██████████| 143/143 [00:06<00:00, 20.73it/s]\n"
          ]
        },
        {
          "metadata": {
            "tags": null
          },
          "name": "stdout",
          "output_type": "stream",
          "text": [
            "Validation Accuracy: 0.9851\n",
            "\n",
            "Epoch 12/20\n"
          ]
        },
        {
          "metadata": {
            "tags": null
          },
          "name": "stderr",
          "output_type": "stream",
          "text": [
            "Training: 100%|██████████| 572/572 [01:01<00:00,  9.31it/s]\n",
            "Validation: 100%|██████████| 143/143 [00:05<00:00, 23.90it/s]\n"
          ]
        },
        {
          "metadata": {
            "tags": null
          },
          "name": "stdout",
          "output_type": "stream",
          "text": [
            "Validation Accuracy: 0.9843\n",
            "\n",
            "Epoch 13/20\n"
          ]
        },
        {
          "metadata": {
            "tags": null
          },
          "name": "stderr",
          "output_type": "stream",
          "text": [
            "Training: 100%|██████████| 572/572 [01:01<00:00,  9.28it/s]\n",
            "Validation: 100%|██████████| 143/143 [00:06<00:00, 21.90it/s]\n"
          ]
        },
        {
          "metadata": {
            "tags": null
          },
          "name": "stdout",
          "output_type": "stream",
          "text": [
            "Validation Accuracy: 0.9878\n",
            "\n",
            "Epoch 14/20\n"
          ]
        },
        {
          "output_type": "stream",
          "name": "stderr",
          "text": [
            "Training: 100%|██████████| 572/572 [01:01<00:00,  9.30it/s]\n",
            "Validation: 100%|██████████| 143/143 [00:06<00:00, 22.00it/s]\n"
          ]
        },
        {
          "output_type": "stream",
          "name": "stdout",
          "text": [
            "Validation Accuracy: 0.9843\n",
            "\n",
            "Epoch 15/20\n"
          ]
        },
        {
          "output_type": "stream",
          "name": "stderr",
          "text": [
            "Training: 100%|██████████| 572/572 [01:01<00:00,  9.30it/s]\n",
            "Validation: 100%|██████████| 143/143 [00:06<00:00, 21.24it/s]\n"
          ]
        },
        {
          "output_type": "stream",
          "name": "stdout",
          "text": [
            "Validation Accuracy: 0.9930\n",
            "\n",
            "Epoch 16/20\n"
          ]
        },
        {
          "output_type": "stream",
          "name": "stderr",
          "text": [
            "Training: 100%|██████████| 572/572 [01:01<00:00,  9.27it/s]\n",
            "Validation: 100%|██████████| 143/143 [00:06<00:00, 22.68it/s]\n"
          ]
        },
        {
          "output_type": "stream",
          "name": "stdout",
          "text": [
            "Validation Accuracy: 0.9869\n",
            "\n",
            "Epoch 17/20\n"
          ]
        },
        {
          "output_type": "stream",
          "name": "stderr",
          "text": [
            "Training: 100%|██████████| 572/572 [01:01<00:00,  9.30it/s]\n",
            "Validation: 100%|██████████| 143/143 [00:06<00:00, 21.30it/s]\n"
          ]
        },
        {
          "output_type": "stream",
          "name": "stdout",
          "text": [
            "Validation Accuracy: 0.9895\n",
            "\n",
            "Epoch 18/20\n"
          ]
        },
        {
          "output_type": "stream",
          "name": "stderr",
          "text": [
            "Training: 100%|██████████| 572/572 [01:01<00:00,  9.32it/s]\n",
            "Validation: 100%|██████████| 143/143 [00:06<00:00, 22.55it/s]\n"
          ]
        },
        {
          "output_type": "stream",
          "name": "stdout",
          "text": [
            "Validation Accuracy: 0.9904\n",
            "\n",
            "Epoch 19/20\n"
          ]
        },
        {
          "output_type": "stream",
          "name": "stderr",
          "text": [
            "Training: 100%|██████████| 572/572 [01:01<00:00,  9.30it/s]\n",
            "Validation: 100%|██████████| 143/143 [00:06<00:00, 20.72it/s]\n"
          ]
        },
        {
          "output_type": "stream",
          "name": "stdout",
          "text": [
            "Validation Accuracy: 0.9878\n",
            "\n",
            "Epoch 20/20\n"
          ]
        },
        {
          "output_type": "stream",
          "name": "stderr",
          "text": [
            "Training: 100%|██████████| 572/572 [01:01<00:00,  9.32it/s]\n",
            "Validation: 100%|██████████| 143/143 [00:06<00:00, 22.96it/s]"
          ]
        },
        {
          "output_type": "stream",
          "name": "stdout",
          "text": [
            "Validation Accuracy: 0.9711\n",
            "\n",
            "Finished Training for swin_tiny_patch4_window7_224!\n",
            "\n",
            "Best Validation Accuracy for Tiny Swin Transformer: 0.9930\n"
          ]
        },
        {
          "output_type": "stream",
          "name": "stderr",
          "text": [
            "\n"
          ]
        }
      ]
    },
    {
      "cell_type": "code",
      "source": [
        "from google.colab import files\n",
        "print(\"Please upload your kaggle.json API token.\")\n",
        "files.upload()"
      ],
      "metadata": {
        "colab": {
          "base_uri": "https://localhost:8080/",
          "height": 108
        },
        "id": "A1Bq7C9pA0-n",
        "outputId": "254ec7bb-d9eb-420c-b0bb-a203cc774877"
      },
      "execution_count": 20,
      "outputs": [
        {
          "output_type": "stream",
          "name": "stdout",
          "text": [
            "Please upload your kaggle.json API token.\n"
          ]
        },
        {
          "output_type": "display_data",
          "data": {
            "text/plain": [
              "<IPython.core.display.HTML object>"
            ],
            "text/html": [
              "\n",
              "     <input type=\"file\" id=\"files-80b6592c-e026-4bfa-b515-02348459d064\" name=\"files[]\" multiple disabled\n",
              "        style=\"border:none\" />\n",
              "     <output id=\"result-80b6592c-e026-4bfa-b515-02348459d064\">\n",
              "      Upload widget is only available when the cell has been executed in the\n",
              "      current browser session. Please rerun this cell to enable.\n",
              "      </output>\n",
              "      <script>// Copyright 2017 Google LLC\n",
              "//\n",
              "// Licensed under the Apache License, Version 2.0 (the \"License\");\n",
              "// you may not use this file except in compliance with the License.\n",
              "// You may obtain a copy of the License at\n",
              "//\n",
              "//      http://www.apache.org/licenses/LICENSE-2.0\n",
              "//\n",
              "// Unless required by applicable law or agreed to in writing, software\n",
              "// distributed under the License is distributed on an \"AS IS\" BASIS,\n",
              "// WITHOUT WARRANTIES OR CONDITIONS OF ANY KIND, either express or implied.\n",
              "// See the License for the specific language governing permissions and\n",
              "// limitations under the License.\n",
              "\n",
              "/**\n",
              " * @fileoverview Helpers for google.colab Python module.\n",
              " */\n",
              "(function(scope) {\n",
              "function span(text, styleAttributes = {}) {\n",
              "  const element = document.createElement('span');\n",
              "  element.textContent = text;\n",
              "  for (const key of Object.keys(styleAttributes)) {\n",
              "    element.style[key] = styleAttributes[key];\n",
              "  }\n",
              "  return element;\n",
              "}\n",
              "\n",
              "// Max number of bytes which will be uploaded at a time.\n",
              "const MAX_PAYLOAD_SIZE = 100 * 1024;\n",
              "\n",
              "function _uploadFiles(inputId, outputId) {\n",
              "  const steps = uploadFilesStep(inputId, outputId);\n",
              "  const outputElement = document.getElementById(outputId);\n",
              "  // Cache steps on the outputElement to make it available for the next call\n",
              "  // to uploadFilesContinue from Python.\n",
              "  outputElement.steps = steps;\n",
              "\n",
              "  return _uploadFilesContinue(outputId);\n",
              "}\n",
              "\n",
              "// This is roughly an async generator (not supported in the browser yet),\n",
              "// where there are multiple asynchronous steps and the Python side is going\n",
              "// to poll for completion of each step.\n",
              "// This uses a Promise to block the python side on completion of each step,\n",
              "// then passes the result of the previous step as the input to the next step.\n",
              "function _uploadFilesContinue(outputId) {\n",
              "  const outputElement = document.getElementById(outputId);\n",
              "  const steps = outputElement.steps;\n",
              "\n",
              "  const next = steps.next(outputElement.lastPromiseValue);\n",
              "  return Promise.resolve(next.value.promise).then((value) => {\n",
              "    // Cache the last promise value to make it available to the next\n",
              "    // step of the generator.\n",
              "    outputElement.lastPromiseValue = value;\n",
              "    return next.value.response;\n",
              "  });\n",
              "}\n",
              "\n",
              "/**\n",
              " * Generator function which is called between each async step of the upload\n",
              " * process.\n",
              " * @param {string} inputId Element ID of the input file picker element.\n",
              " * @param {string} outputId Element ID of the output display.\n",
              " * @return {!Iterable<!Object>} Iterable of next steps.\n",
              " */\n",
              "function* uploadFilesStep(inputId, outputId) {\n",
              "  const inputElement = document.getElementById(inputId);\n",
              "  inputElement.disabled = false;\n",
              "\n",
              "  const outputElement = document.getElementById(outputId);\n",
              "  outputElement.innerHTML = '';\n",
              "\n",
              "  const pickedPromise = new Promise((resolve) => {\n",
              "    inputElement.addEventListener('change', (e) => {\n",
              "      resolve(e.target.files);\n",
              "    });\n",
              "  });\n",
              "\n",
              "  const cancel = document.createElement('button');\n",
              "  inputElement.parentElement.appendChild(cancel);\n",
              "  cancel.textContent = 'Cancel upload';\n",
              "  const cancelPromise = new Promise((resolve) => {\n",
              "    cancel.onclick = () => {\n",
              "      resolve(null);\n",
              "    };\n",
              "  });\n",
              "\n",
              "  // Wait for the user to pick the files.\n",
              "  const files = yield {\n",
              "    promise: Promise.race([pickedPromise, cancelPromise]),\n",
              "    response: {\n",
              "      action: 'starting',\n",
              "    }\n",
              "  };\n",
              "\n",
              "  cancel.remove();\n",
              "\n",
              "  // Disable the input element since further picks are not allowed.\n",
              "  inputElement.disabled = true;\n",
              "\n",
              "  if (!files) {\n",
              "    return {\n",
              "      response: {\n",
              "        action: 'complete',\n",
              "      }\n",
              "    };\n",
              "  }\n",
              "\n",
              "  for (const file of files) {\n",
              "    const li = document.createElement('li');\n",
              "    li.append(span(file.name, {fontWeight: 'bold'}));\n",
              "    li.append(span(\n",
              "        `(${file.type || 'n/a'}) - ${file.size} bytes, ` +\n",
              "        `last modified: ${\n",
              "            file.lastModifiedDate ? file.lastModifiedDate.toLocaleDateString() :\n",
              "                                    'n/a'} - `));\n",
              "    const percent = span('0% done');\n",
              "    li.appendChild(percent);\n",
              "\n",
              "    outputElement.appendChild(li);\n",
              "\n",
              "    const fileDataPromise = new Promise((resolve) => {\n",
              "      const reader = new FileReader();\n",
              "      reader.onload = (e) => {\n",
              "        resolve(e.target.result);\n",
              "      };\n",
              "      reader.readAsArrayBuffer(file);\n",
              "    });\n",
              "    // Wait for the data to be ready.\n",
              "    let fileData = yield {\n",
              "      promise: fileDataPromise,\n",
              "      response: {\n",
              "        action: 'continue',\n",
              "      }\n",
              "    };\n",
              "\n",
              "    // Use a chunked sending to avoid message size limits. See b/62115660.\n",
              "    let position = 0;\n",
              "    do {\n",
              "      const length = Math.min(fileData.byteLength - position, MAX_PAYLOAD_SIZE);\n",
              "      const chunk = new Uint8Array(fileData, position, length);\n",
              "      position += length;\n",
              "\n",
              "      const base64 = btoa(String.fromCharCode.apply(null, chunk));\n",
              "      yield {\n",
              "        response: {\n",
              "          action: 'append',\n",
              "          file: file.name,\n",
              "          data: base64,\n",
              "        },\n",
              "      };\n",
              "\n",
              "      let percentDone = fileData.byteLength === 0 ?\n",
              "          100 :\n",
              "          Math.round((position / fileData.byteLength) * 100);\n",
              "      percent.textContent = `${percentDone}% done`;\n",
              "\n",
              "    } while (position < fileData.byteLength);\n",
              "  }\n",
              "\n",
              "  // All done.\n",
              "  yield {\n",
              "    response: {\n",
              "      action: 'complete',\n",
              "    }\n",
              "  };\n",
              "}\n",
              "\n",
              "scope.google = scope.google || {};\n",
              "scope.google.colab = scope.google.colab || {};\n",
              "scope.google.colab._files = {\n",
              "  _uploadFiles,\n",
              "  _uploadFilesContinue,\n",
              "};\n",
              "})(self);\n",
              "</script> "
            ]
          },
          "metadata": {}
        },
        {
          "output_type": "stream",
          "name": "stdout",
          "text": [
            "Saving kaggle (1).json to kaggle (1) (1).json\n"
          ]
        },
        {
          "output_type": "execute_result",
          "data": {
            "text/plain": [
              "{'kaggle (1) (1).json': b'{\"username\":\"srivaishu006\",\"key\":\"bf6f15a8bdd7ee2e54639af400da6a96\"}'}"
            ]
          },
          "metadata": {},
          "execution_count": 20
        }
      ]
    },
    {
      "cell_type": "code",
      "source": [
        "!mkdir -p ~/.kaggle\n",
        "!mv kaggle.json ~/.kaggle/\n",
        "!chmod 600 ~/.kaggle/kaggle.json\n",
        "!kaggle datasets download -d masoudnickparvar/brain-tumor-mri-dataset -p /content/dataset --unzip"
      ],
      "metadata": {
        "colab": {
          "base_uri": "https://localhost:8080/"
        },
        "id": "MmRRpXWeA74D",
        "outputId": "121e0397-1e67-452c-834f-0bbedf8c79a7"
      },
      "execution_count": 21,
      "outputs": [
        {
          "output_type": "stream",
          "name": "stdout",
          "text": [
            "mv: cannot stat 'kaggle.json': No such file or directory\n",
            "Dataset URL: https://www.kaggle.com/datasets/masoudnickparvar/brain-tumor-mri-dataset\n",
            "License(s): CC0-1.0\n",
            "Downloading brain-tumor-mri-dataset.zip to /content/dataset\n",
            " 96% 143M/149M [00:00<00:00, 1.50GB/s]\n",
            "100% 149M/149M [00:00<00:00, 1.29GB/s]\n"
          ]
        }
      ]
    },
    {
      "cell_type": "code",
      "source": [
        "# Imports\n",
        "import os\n",
        "import torch\n",
        "import timm\n",
        "import pandas as pd\n",
        "import torch.nn as nn\n",
        "from torchvision import transforms\n",
        "from torch.utils.data import Dataset, DataLoader\n",
        "from sklearn.model_selection import train_test_split\n",
        "from sklearn.metrics import classification_report, accuracy_score, confusion_matrix\n",
        "import seaborn as sns\n",
        "import matplotlib.pyplot as plt\n",
        "from PIL import Image\n",
        "from tqdm import tqdm\n",
        "\n",
        "# Configuration\n",
        "DATA_DIR = '/content/dataset/Training/'\n",
        "TEST_DIR = '/content/dataset/Testing/'\n",
        "IMAGE_SIZE = 224\n",
        "BATCH_SIZE = 8 # Use the same batch size as your final successful training\n",
        "device = torch.device(\"cuda\" if torch.cuda.is_available() else \"cpu\")\n",
        "\n",
        "print(f\"Libraries imported and configuration set. Using device: {device}\")"
      ],
      "metadata": {
        "colab": {
          "base_uri": "https://localhost:8080/"
        },
        "id": "sJiJkJPeBMCh",
        "outputId": "67620971-b196-426d-f4f9-4ebd9a5c502d"
      },
      "execution_count": 22,
      "outputs": [
        {
          "output_type": "stream",
          "name": "stdout",
          "text": [
            "Libraries imported and configuration set. Using device: cuda\n"
          ]
        }
      ]
    },
    {
      "cell_type": "code",
      "source": [
        "# Data Loading Function\n",
        "def load_data(data_dir):\n",
        "    image_paths, labels = [], []\n",
        "    class_names = sorted(os.listdir(data_dir))\n",
        "    label_map = {name: i for i, name in enumerate(class_names)}\n",
        "    for class_name in class_names:\n",
        "        class_dir = os.path.join(data_dir, class_name)\n",
        "        for filename in os.listdir(class_dir):\n",
        "            if filename.lower().endswith(('.png', '.jpg', '.jpeg')):\n",
        "                image_paths.append(os.path.join(class_dir, filename))\n",
        "                labels.append(label_map[class_name])\n",
        "    return pd.DataFrame({'filepath': image_paths, 'label': labels}), label_map\n",
        "\n",
        "# Load dataframes\n",
        "train_val_df, label_map = load_data(DATA_DIR)\n",
        "test_df, _ = load_data(TEST_DIR)\n",
        "\n",
        "# Define Transformation\n",
        "val_test_transform = transforms.Compose([\n",
        "    transforms.Resize((IMAGE_SIZE, IMAGE_SIZE)),\n",
        "    transforms.ToTensor(),\n",
        "    transforms.Normalize(mean=[0.485, 0.456, 0.406], std=[0.229, 0.224, 0.225])\n",
        "])\n",
        "\n",
        "# Custom Dataset Class\n",
        "class TumorDataset(Dataset):\n",
        "    def __init__(self, dataframe, transform=None):\n",
        "        self.df, self.transform = dataframe, transform\n",
        "    def __len__(self):\n",
        "        return len(self.df)\n",
        "    def __getitem__(self, idx):\n",
        "        img_path, label = self.df.iloc[idx]['filepath'], self.df.iloc[idx]['label']\n",
        "        image = Image.open(img_path).convert(\"RGB\")\n",
        "        if self.transform: image = self.transform(image)\n",
        "        return image, torch.tensor(label, dtype=torch.long)\n",
        "\n",
        "# Create the Test DataLoader\n",
        "test_dataset = TumorDataset(test_df, transform=val_test_transform)\n",
        "test_loader = DataLoader(test_dataset, batch_size=BATCH_SIZE, shuffle=False, num_workers=2)\n",
        "\n",
        "print(\"Test data is loaded and ready for evaluation.\")"
      ],
      "metadata": {
        "colab": {
          "base_uri": "https://localhost:8080/"
        },
        "id": "3kHWfHStBkNf",
        "outputId": "c17784ba-d324-4cec-c62a-ff32dc8b5695"
      },
      "execution_count": 23,
      "outputs": [
        {
          "output_type": "stream",
          "name": "stdout",
          "text": [
            "Test data is loaded and ready for evaluation.\n"
          ]
        }
      ]
    },
    {
      "cell_type": "code",
      "source": [
        "def evaluate_model(model_name, test_loader, label_map):\n",
        "    print(f\"\\n======================================================\")\n",
        "    print(f\"   Starting Evaluation for: {model_name}\")\n",
        "    print(f\"======================================================\")\n",
        "\n",
        "    model = timm.create_model(model_name, pretrained=False, num_classes=len(label_map))\n",
        "    model_path = f'/content/{model_name}_best.pth'\n",
        "    try:\n",
        "        model.load_state_dict(torch.load(model_path))\n",
        "    except FileNotFoundError:\n",
        "        print(f\"ERROR: Model file not found at {model_path}.\")\n",
        "        print(\"Please make sure you have run the training for this model OR that the saved .pth file has been uploaded to /content/.\")\n",
        "        return\n",
        "\n",
        "    model.to(device)\n",
        "    model.eval()\n",
        "\n",
        "    all_preds, all_labels = [], []\n",
        "    with torch.no_grad():\n",
        "        for images, labels in tqdm(test_loader, desc=f\"Evaluating {model_name}\"):\n",
        "            images, labels = images.to(device), labels.to(device)\n",
        "            outputs = model(images)\n",
        "            _, predicted = torch.max(outputs.data, 1)\n",
        "            all_preds.extend(predicted.cpu().numpy())\n",
        "            all_labels.extend(labels.cpu().numpy())\n",
        "\n",
        "    class_names = list(label_map.keys())\n",
        "    print(f\"\\n--- Evaluation Report for {model_name} ---\")\n",
        "    print(\"Accuracy:\", accuracy_score(all_preds, all_labels))\n",
        "    print(\"\\nClassification Report:\")\n",
        "    print(classification_report(all_labels, all_preds, target_names=class_names))\n",
        "\n",
        "    cm = confusion_matrix(all_labels, all_preds)\n",
        "    plt.figure(figsize=(8, 6))\n",
        "    sns.heatmap(cm, annot=True, fmt='d', cmap='Blues', xticklabels=class_names, yticklabels=class_names)\n",
        "    plt.xlabel('Predicted Label'); plt.ylabel('True Label')\n",
        "    plt.title(f'Confusion Matrix for {model_name}'); plt.show()"
      ],
      "metadata": {
        "id": "896sgzD2BmQb"
      },
      "execution_count": 24,
      "outputs": []
    },
    {
      "cell_type": "code",
      "source": [
        "# --- This is the code for YOUR project (Swin + MaxViT) ---\n",
        "print(\"--- Running Final Evaluation for Srivaishnavi's Project ---\")\n",
        "\n",
        "# Define the EXACT model names YOU trained\n",
        "swin_model_name = 'swin_tiny_patch4_window7_224'\n",
        "maxvit_model_name = 'maxvit_tiny_tf_224'\n",
        "\n",
        "# Call the function for each of your models\n",
        "# IMPORTANT: Make sure the files 'swin_tiny..._best.pth' and 'maxvit_tiny..._best.pth' are in your /content/ directory.\n",
        "# If they are not there, you must re-run the training for them first.\n",
        "evaluate_model(swin_model_name, test_loader, label_map)\n",
        "evaluate_model(maxvit_model_name, test_loader, label_map)"
      ],
      "metadata": {
        "colab": {
          "base_uri": "https://localhost:8080/",
          "height": 1000
        },
        "id": "1E5IU4iwBuQ4",
        "outputId": "59107e9b-7d69-4ef2-ae8c-2d4d7789e9c6"
      },
      "execution_count": 25,
      "outputs": [
        {
          "output_type": "stream",
          "name": "stdout",
          "text": [
            "--- Running Final Evaluation for Srivaishnavi's Project ---\n",
            "\n",
            "======================================================\n",
            "   Starting Evaluation for: swin_tiny_patch4_window7_224\n",
            "======================================================\n"
          ]
        },
        {
          "output_type": "stream",
          "name": "stderr",
          "text": [
            "Evaluating swin_tiny_patch4_window7_224: 100%|██████████| 164/164 [00:07<00:00, 21.82it/s]\n"
          ]
        },
        {
          "output_type": "stream",
          "name": "stdout",
          "text": [
            "\n",
            "--- Evaluation Report for swin_tiny_patch4_window7_224 ---\n",
            "Accuracy: 0.9900839054157132\n",
            "\n",
            "Classification Report:\n",
            "              precision    recall  f1-score   support\n",
            "\n",
            "      glioma       1.00      0.98      0.99       300\n",
            "  meningioma       0.97      0.99      0.98       306\n",
            "     notumor       0.99      1.00      0.99       405\n",
            "   pituitary       0.99      0.99      0.99       300\n",
            "\n",
            "    accuracy                           0.99      1311\n",
            "   macro avg       0.99      0.99      0.99      1311\n",
            "weighted avg       0.99      0.99      0.99      1311\n",
            "\n"
          ]
        },
        {
          "output_type": "display_data",
          "data": {
            "text/plain": [
              "<Figure size 800x600 with 2 Axes>"
            ],
            "image/png": "[encoded data removed]"
          },
          "metadata": {}
        },
        {
          "output_type": "stream",
          "name": "stdout",
          "text": [
            "\n",
            "======================================================\n",
            "   Starting Evaluation for: maxvit_tiny_tf_224\n",
            "======================================================\n"
          ]
        },
        {
          "output_type": "stream",
          "name": "stderr",
          "text": [
            "Evaluating maxvit_tiny_tf_224: 100%|██████████| 164/164 [00:10<00:00, 15.91it/s]\n"
          ]
        },
        {
          "output_type": "stream",
          "name": "stdout",
          "text": [
            "\n",
            "--- Evaluation Report for maxvit_tiny_tf_224 ---\n",
            "Accuracy: 0.8054919908466819\n",
            "\n",
            "Classification Report:\n",
            "              precision    recall  f1-score   support\n",
            "\n",
            "      glioma       0.98      0.83      0.90       300\n",
            "  meningioma       0.97      0.74      0.84       306\n",
            "     notumor       0.63      1.00      0.78       405\n",
            "   pituitary       0.96      0.58      0.73       300\n",
            "\n",
            "    accuracy                           0.81      1311\n",
            "   macro avg       0.88      0.79      0.81      1311\n",
            "weighted avg       0.86      0.81      0.81      1311\n",
            "\n"
          ]
        },
        {
          "output_type": "display_data",
          "data": {
            "text/plain": [
              "<Figure size 800x600 with 2 Axes>"
            ],
            "image/png": "[encoded data removed]"
          },
          "metadata": {}
        }
      ]
    },
    {
      "cell_type": "code",
      "source": [
        "from google.colab import files\n",
        "files.upload() # Upload your kaggle.json"
      ],
      "metadata": {
        "colab": {
          "base_uri": "https://localhost:8080/",
          "height": 90
        },
        "id": "D7WrOKLeI0pZ",
        "outputId": "d41c4a5b-de2a-4ad3-d7b2-60b30d360c27"
      },
      "execution_count": 26,
      "outputs": [
        {
          "output_type": "display_data",
          "data": {
            "text/plain": [
              "<IPython.core.display.HTML object>"
            ],
            "text/html": [
              "\n",
              "     <input type=\"file\" id=\"files-d20b813e-ff1d-4894-89a4-89258d2d0b69\" name=\"files[]\" multiple disabled\n",
              "        style=\"border:none\" />\n",
              "     <output id=\"result-d20b813e-ff1d-4894-89a4-89258d2d0b69\">\n",
              "      Upload widget is only available when the cell has been executed in the\n",
              "      current browser session. Please rerun this cell to enable.\n",
              "      </output>\n",
              "      <script>// Copyright 2017 Google LLC\n",
              "//\n",
              "// Licensed under the Apache License, Version 2.0 (the \"License\");\n",
              "// you may not use this file except in compliance with the License.\n",
              "// You may obtain a copy of the License at\n",
              "//\n",
              "//      http://www.apache.org/licenses/LICENSE-2.0\n",
              "//\n",
              "// Unless required by applicable law or agreed to in writing, software\n",
              "// distributed under the License is distributed on an \"AS IS\" BASIS,\n",
              "// WITHOUT WARRANTIES OR CONDITIONS OF ANY KIND, either express or implied.\n",
              "// See the License for the specific language governing permissions and\n",
              "// limitations under the License.\n",
              "\n",
              "/**\n",
              " * @fileoverview Helpers for google.colab Python module.\n",
              " */\n",
              "(function(scope) {\n",
              "function span(text, styleAttributes = {}) {\n",
              "  const element = document.createElement('span');\n",
              "  element.textContent = text;\n",
              "  for (const key of Object.keys(styleAttributes)) {\n",
              "    element.style[key] = styleAttributes[key];\n",
              "  }\n",
              "  return element;\n",
              "}\n",
              "\n",
              "// Max number of bytes which will be uploaded at a time.\n",
              "const MAX_PAYLOAD_SIZE = 100 * 1024;\n",
              "\n",
              "function _uploadFiles(inputId, outputId) {\n",
              "  const steps = uploadFilesStep(inputId, outputId);\n",
              "  const outputElement = document.getElementById(outputId);\n",
              "  // Cache steps on the outputElement to make it available for the next call\n",
              "  // to uploadFilesContinue from Python.\n",
              "  outputElement.steps = steps;\n",
              "\n",
              "  return _uploadFilesContinue(outputId);\n",
              "}\n",
              "\n",
              "// This is roughly an async generator (not supported in the browser yet),\n",
              "// where there are multiple asynchronous steps and the Python side is going\n",
              "// to poll for completion of each step.\n",
              "// This uses a Promise to block the python side on completion of each step,\n",
              "// then passes the result of the previous step as the input to the next step.\n",
              "function _uploadFilesContinue(outputId) {\n",
              "  const outputElement = document.getElementById(outputId);\n",
              "  const steps = outputElement.steps;\n",
              "\n",
              "  const next = steps.next(outputElement.lastPromiseValue);\n",
              "  return Promise.resolve(next.value.promise).then((value) => {\n",
              "    // Cache the last promise value to make it available to the next\n",
              "    // step of the generator.\n",
              "    outputElement.lastPromiseValue = value;\n",
              "    return next.value.response;\n",
              "  });\n",
              "}\n",
              "\n",
              "/**\n",
              " * Generator function which is called between each async step of the upload\n",
              " * process.\n",
              " * @param {string} inputId Element ID of the input file picker element.\n",
              " * @param {string} outputId Element ID of the output display.\n",
              " * @return {!Iterable<!Object>} Iterable of next steps.\n",
              " */\n",
              "function* uploadFilesStep(inputId, outputId) {\n",
              "  const inputElement = document.getElementById(inputId);\n",
              "  inputElement.disabled = false;\n",
              "\n",
              "  const outputElement = document.getElementById(outputId);\n",
              "  outputElement.innerHTML = '';\n",
              "\n",
              "  const pickedPromise = new Promise((resolve) => {\n",
              "    inputElement.addEventListener('change', (e) => {\n",
              "      resolve(e.target.files);\n",
              "    });\n",
              "  });\n",
              "\n",
              "  const cancel = document.createElement('button');\n",
              "  inputElement.parentElement.appendChild(cancel);\n",
              "  cancel.textContent = 'Cancel upload';\n",
              "  const cancelPromise = new Promise((resolve) => {\n",
              "    cancel.onclick = () => {\n",
              "      resolve(null);\n",
              "    };\n",
              "  });\n",
              "\n",
              "  // Wait for the user to pick the files.\n",
              "  const files = yield {\n",
              "    promise: Promise.race([pickedPromise, cancelPromise]),\n",
              "    response: {\n",
              "      action: 'starting',\n",
              "    }\n",
              "  };\n",
              "\n",
              "  cancel.remove();\n",
              "\n",
              "  // Disable the input element since further picks are not allowed.\n",
              "  inputElement.disabled = true;\n",
              "\n",
              "  if (!files) {\n",
              "    return {\n",
              "      response: {\n",
              "        action: 'complete',\n",
              "      }\n",
              "    };\n",
              "  }\n",
              "\n",
              "  for (const file of files) {\n",
              "    const li = document.createElement('li');\n",
              "    li.append(span(file.name, {fontWeight: 'bold'}));\n",
              "    li.append(span(\n",
              "        `(${file.type || 'n/a'}) - ${file.size} bytes, ` +\n",
              "        `last modified: ${\n",
              "            file.lastModifiedDate ? file.lastModifiedDate.toLocaleDateString() :\n",
              "                                    'n/a'} - `));\n",
              "    const percent = span('0% done');\n",
              "    li.appendChild(percent);\n",
              "\n",
              "    outputElement.appendChild(li);\n",
              "\n",
              "    const fileDataPromise = new Promise((resolve) => {\n",
              "      const reader = new FileReader();\n",
              "      reader.onload = (e) => {\n",
              "        resolve(e.target.result);\n",
              "      };\n",
              "      reader.readAsArrayBuffer(file);\n",
              "    });\n",
              "    // Wait for the data to be ready.\n",
              "    let fileData = yield {\n",
              "      promise: fileDataPromise,\n",
              "      response: {\n",
              "        action: 'continue',\n",
              "      }\n",
              "    };\n",
              "\n",
              "    // Use a chunked sending to avoid message size limits. See b/62115660.\n",
              "    let position = 0;\n",
              "    do {\n",
              "      const length = Math.min(fileData.byteLength - position, MAX_PAYLOAD_SIZE);\n",
              "      const chunk = new Uint8Array(fileData, position, length);\n",
              "      position += length;\n",
              "\n",
              "      const base64 = btoa(String.fromCharCode.apply(null, chunk));\n",
              "      yield {\n",
              "        response: {\n",
              "          action: 'append',\n",
              "          file: file.name,\n",
              "          data: base64,\n",
              "        },\n",
              "      };\n",
              "\n",
              "      let percentDone = fileData.byteLength === 0 ?\n",
              "          100 :\n",
              "          Math.round((position / fileData.byteLength) * 100);\n",
              "      percent.textContent = `${percentDone}% done`;\n",
              "\n",
              "    } while (position < fileData.byteLength);\n",
              "  }\n",
              "\n",
              "  // All done.\n",
              "  yield {\n",
              "    response: {\n",
              "      action: 'complete',\n",
              "    }\n",
              "  };\n",
              "}\n",
              "\n",
              "scope.google = scope.google || {};\n",
              "scope.google.colab = scope.google.colab || {};\n",
              "scope.google.colab._files = {\n",
              "  _uploadFiles,\n",
              "  _uploadFilesContinue,\n",
              "};\n",
              "})(self);\n",
              "</script> "
            ]
          },
          "metadata": {}
        },
        {
          "output_type": "stream",
          "name": "stdout",
          "text": [
            "Saving kaggle (1).json to kaggle (1) (2).json\n"
          ]
        },
        {
          "output_type": "execute_result",
          "data": {
            "text/plain": [
              "{'kaggle (1) (2).json': b'{\"username\":\"srivaishu006\",\"key\":\"bf6f15a8bdd7ee2e54639af400da6a96\"}'}"
            ]
          },
          "metadata": {},
          "execution_count": 26
        }
      ]
    },
    {
      "cell_type": "code",
      "source": [
        "!mkdir -p ~/.kaggle && mv kaggle.json ~/.kaggle/ && chmod 600 ~/.kaggle/kaggle.json\n",
        "!kaggle datasets download -d masoudnickparvar/brain-tumor-mri-dataset -p /content/dataset --unzip"
      ],
      "metadata": {
        "colab": {
          "base_uri": "https://localhost:8080/"
        },
        "id": "gwYZ5naWI3xn",
        "outputId": "f6d752f9-d932-457e-95bf-3474b5566058"
      },
      "execution_count": 27,
      "outputs": [
        {
          "output_type": "stream",
          "name": "stdout",
          "text": [
            "mv: cannot stat 'kaggle.json': No such file or directory\n",
            "Dataset URL: https://www.kaggle.com/datasets/masoudnickparvar/brain-tumor-mri-dataset\n",
            "License(s): CC0-1.0\n",
            "Downloading brain-tumor-mri-dataset.zip to /content/dataset\n",
            " 92% 136M/149M [00:00<00:00, 1.00GB/s]\n",
            "100% 149M/149M [00:00<00:00, 1.01GB/s]\n"
          ]
        }
      ]
    },
    {
      "cell_type": "code",
      "source": [
        "import os\n",
        "import torch\n",
        "import timm\n",
        "import pandas as pd\n",
        "import torch.nn as nn\n",
        "import torch.optim as optim\n",
        "from torchvision import transforms\n",
        "from torch.utils.data import Dataset, DataLoader\n",
        "from sklearn.model_selection import train_test_split\n",
        "from PIL import Image\n",
        "from tqdm import tqdm\n",
        "\n",
        "device = torch.device(\"cuda\" if torch.cuda.is_available() else \"cpu\")\n",
        "\n",
        "# Add this line for confirmation\n",
        "print(f\"Libraries imported successfully. Using device: {device}\")"
      ],
      "metadata": {
        "colab": {
          "base_uri": "https://localhost:8080/"
        },
        "id": "I2n8JZSWJb6f",
        "outputId": "24eb9037-f7be-4c45-aabe-ed078b6df5c6"
      },
      "execution_count": 29,
      "outputs": [
        {
          "output_type": "stream",
          "name": "stdout",
          "text": [
            "Libraries imported successfully. Using device: cuda\n"
          ]
        }
      ]
    },
    {
      "cell_type": "code",
      "source": [
        "# ===================================================================\n",
        "# ALL-IN-ONE CODE BLOCK FOR EXPERIMENT 1\n",
        "# ===================================================================\n",
        "\n",
        "# --- STEP 1: IMPORTS ---\n",
        "import os\n",
        "import torch\n",
        "import timm\n",
        "import pandas as pd\n",
        "import torch.nn as nn\n",
        "import torch.optim as optim\n",
        "from torchvision import transforms\n",
        "from torch.utils.data import Dataset, DataLoader\n",
        "from sklearn.model_selection import train_test_split\n",
        "from PIL import Image\n",
        "from tqdm import tqdm\n",
        "print(\"--- Step 1: Libraries Imported ---\")\n",
        "\n",
        "# --- STEP 2: CONFIGURATION ---\n",
        "DATA_DIR = '/content/dataset/Training/'\n",
        "IMAGE_SIZE = 224\n",
        "BATCH_SIZE = 8      # Using the safe batch size\n",
        "EPOCHS = 35         # <<< EXPERIMENT 1: Training for 35 epochs\n",
        "LEARNING_RATE = 1e-5\n",
        "device = torch.device(\"cuda\" if torch.cuda.is_available() else \"cpu\")\n",
        "print(f\"--- Step 2: Configuration Set (Device: {device}, Epochs: {EPOCHS}) ---\")\n",
        "\n",
        "# --- STEP 3: DATA LOADING ---\n",
        "def load_data(data_dir):\n",
        "    image_paths, labels = [], []\n",
        "    class_names = sorted(os.listdir(data_dir))\n",
        "    label_map = {name: i for i, name in enumerate(class_names)}\n",
        "    for class_name in class_names:\n",
        "        class_dir = os.path.join(data_dir, class_name)\n",
        "        for filename in os.listdir(class_dir):\n",
        "            if filename.lower().endswith(('.png', '.jpg', '.jpeg')):\n",
        "                image_paths.append(os.path.join(class_dir, filename))\n",
        "                labels.append(label_map[class_name])\n",
        "    return pd.DataFrame({'filepath': image_paths, 'label': labels}), label_map\n",
        "\n",
        "train_val_df, label_map = load_data(DATA_DIR)\n",
        "train_df, val_df = train_test_split(train_val_df, test_size=0.2, random_state=42, stratify=train_val_df['label'])\n",
        "print(\"--- Step 3: Data Loaded and Split ---\")\n",
        "print(f\"Label map: {label_map}\")\n",
        "print(f\"Training samples: {len(train_df)}, Validation samples: {len(val_df)}\")\n",
        "\n",
        "# --- STEP 4: PREPROCESSING & DATASETS ---\n",
        "IMAGENET_MEAN, IMAGENET_STD = [0.485, 0.456, 0.406], [0.229, 0.224, 0.225]\n",
        "train_transform = transforms.Compose([\n",
        "    transforms.Resize((IMAGE_SIZE, IMAGE_SIZE)), transforms.RandomRotation(20),\n",
        "    transforms.RandomHorizontalFlip(), transforms.ColorJitter(brightness=0.1, contrast=0.1),\n",
        "    transforms.ToTensor(), transforms.Normalize(mean=IMAGENET_MEAN, std=IMAGENET_STD)\n",
        "])\n",
        "val_test_transform = transforms.Compose([\n",
        "    transforms.Resize((IMAGE_SIZE, IMAGE_SIZE)), transforms.ToTensor(),\n",
        "    transforms.Normalize(mean=IMAGENET_MEAN, std=IMAGENET_STD)\n",
        "])\n",
        "class TumorDataset(Dataset):\n",
        "    def __init__(self, df, transform=None): self.df, self.transform = df, transform\n",
        "    def __len__(self): return len(self.df)\n",
        "    def __getitem__(self, idx):\n",
        "        img_path, label = self.df.iloc[idx]['filepath'], self.df.iloc[idx]['label']\n",
        "        image = Image.open(img_path).convert(\"RGB\")\n",
        "        if self.transform: image = self.transform(image)\n",
        "        return image, torch.tensor(label, dtype=torch.long)\n",
        "train_dataset, val_dataset = TumorDataset(train_df, transform=train_transform), TumorDataset(val_df, transform=val_test_transform)\n",
        "train_loader, val_loader = DataLoader(train_dataset, batch_size=BATCH_SIZE, shuffle=True, num_workers=2), DataLoader(val_dataset, batch_size=BATCH_SIZE, shuffle=False, num_workers=2)\n",
        "print(\"--- Step 4: DataLoaders Ready ---\")\n",
        "\n",
        "# --- STEP 5: TRAINING FUNCTION ---\n",
        "def train_model(model, model_name, train_loader, val_loader, epochs, learning_rate):\n",
        "    criterion = nn.CrossEntropyLoss()\n",
        "    optimizer = optim.AdamW(model.parameters(), lr=learning_rate)\n",
        "    best_val_accuracy = 0.0\n",
        "    for epoch in range(epochs):\n",
        "        model.train()\n",
        "        print(f\"\\nEpoch {epoch+1}/{epochs}\")\n",
        "        for images, labels in tqdm(train_loader, desc=\"Training\"):\n",
        "            images, labels = images.to(device), labels.to(device)\n",
        "            optimizer.zero_grad()\n",
        "            outputs = model(images)\n",
        "            loss = criterion(outputs, labels)\n",
        "            loss.backward()\n",
        "            optimizer.step()\n",
        "        model.eval()\n",
        "        correct_val = 0\n",
        "        with torch.no_grad():\n",
        "            for images, labels in tqdm(val_loader, desc=\"Validation\"):\n",
        "                images, labels = images.to(device), labels.to(device)\n",
        "                outputs = model(images)\n",
        "                _, predicted = torch.max(outputs.data, 1)\n",
        "                correct_val += (predicted == labels).sum().item()\n",
        "        val_accuracy = correct_val / len(val_loader.dataset)\n",
        "        print(f\"Validation Accuracy: {val_accuracy:.4f}\")\n",
        "        if val_accuracy > best_val_accuracy:\n",
        "            best_val_accuracy = val_accuracy\n",
        "            torch.save(model.state_dict(), f'/content/{model_name}_best.pth')\n",
        "            print(f\"----> New best model saved\")\n",
        "    print(f\"\\nFinished Training for {model_name}!\")\n",
        "    return best_val_accuracy\n",
        "print(\"--- Step 5: Training Function Defined ---\")\n",
        "\n",
        "# --- FINAL STEP: TRAIN THE TINY MAXVIT MODEL ---\n",
        "print(\"\\n--- Starting Final Step: Training the Tiny MaxViT Model ---\")\n",
        "maxvit_model_name = 'maxvit_tiny_tf_224'\n",
        "maxvit_model = timm.create_model(maxvit_model_name, pretrained=True, num_classes=len(label_map))\n",
        "maxvit_model.to(device)\n",
        "maxvit_accuracy = train_model(maxvit_model, maxvit_model_name, train_loader, val_loader, EPOCHS, LEARNING_RATE)\n",
        "print(f\"\\nBest Validation Accuracy for Tiny MaxViT (Experiment 1): {maxvit_accuracy:.4f}\")"
      ],
      "metadata": {
        "colab": {
          "base_uri": "https://localhost:8080/"
        },
        "id": "CuohNu4JKJEg",
        "outputId": "a5a3153f-8c6b-4e03-9369-82bf38f44368"
      },
      "execution_count": 32,
      "outputs": [
        {
          "output_type": "stream",
          "name": "stdout",
          "text": [
            "--- Step 1: Libraries Imported ---\n",
            "--- Step 2: Configuration Set (Device: cuda, Epochs: 35) ---\n",
            "--- Step 3: Data Loaded and Split ---\n",
            "Label map: {'glioma': 0, 'meningioma': 1, 'notumor': 2, 'pituitary': 3}\n",
            "Training samples: 4569, Validation samples: 1143\n",
            "--- Step 4: DataLoaders Ready ---\n",
            "--- Step 5: Training Function Defined ---\n",
            "\n",
            "--- Starting Final Step: Training the Tiny MaxViT Model ---\n",
            "\n",
            "Epoch 1/35\n"
          ]
        },
        {
          "output_type": "stream",
          "name": "stderr",
          "text": [
            "Training: 100%|██████████| 572/572 [01:52<00:00,  5.09it/s]\n",
            "Validation: 100%|██████████| 143/143 [00:09<00:00, 14.78it/s]\n"
          ]
        },
        {
          "output_type": "stream",
          "name": "stdout",
          "text": [
            "Validation Accuracy: 0.9108\n",
            "----> New best model saved\n",
            "\n",
            "Epoch 2/35\n"
          ]
        },
        {
          "output_type": "stream",
          "name": "stderr",
          "text": [
            "Training: 100%|██████████| 572/572 [01:48<00:00,  5.30it/s]\n",
            "Validation: 100%|██████████| 143/143 [00:09<00:00, 15.33it/s]\n"
          ]
        },
        {
          "output_type": "stream",
          "name": "stdout",
          "text": [
            "Validation Accuracy: 0.9423\n",
            "----> New best model saved\n",
            "\n",
            "Epoch 3/35\n"
          ]
        },
        {
          "output_type": "stream",
          "name": "stderr",
          "text": [
            "Training: 100%|██████████| 572/572 [01:48<00:00,  5.29it/s]\n",
            "Validation: 100%|██████████| 143/143 [00:09<00:00, 14.97it/s]\n"
          ]
        },
        {
          "output_type": "stream",
          "name": "stdout",
          "text": [
            "Validation Accuracy: 0.9501\n",
            "----> New best model saved\n",
            "\n",
            "Epoch 4/35\n"
          ]
        },
        {
          "output_type": "stream",
          "name": "stderr",
          "text": [
            "Training: 100%|██████████| 572/572 [01:48<00:00,  5.27it/s]\n",
            "Validation: 100%|██████████| 143/143 [00:09<00:00, 15.13it/s]\n"
          ]
        },
        {
          "output_type": "stream",
          "name": "stdout",
          "text": [
            "Validation Accuracy: 0.9694\n",
            "----> New best model saved\n",
            "\n",
            "Epoch 5/35\n"
          ]
        },
        {
          "output_type": "stream",
          "name": "stderr",
          "text": [
            "Training: 100%|██████████| 572/572 [01:47<00:00,  5.30it/s]\n",
            "Validation: 100%|██████████| 143/143 [00:09<00:00, 15.51it/s]\n"
          ]
        },
        {
          "output_type": "stream",
          "name": "stdout",
          "text": [
            "Validation Accuracy: 0.9729\n",
            "----> New best model saved\n",
            "\n",
            "Epoch 6/35\n"
          ]
        },
        {
          "output_type": "stream",
          "name": "stderr",
          "text": [
            "Training: 100%|██████████| 572/572 [01:47<00:00,  5.30it/s]\n",
            "Validation: 100%|██████████| 143/143 [00:09<00:00, 15.11it/s]\n"
          ]
        },
        {
          "output_type": "stream",
          "name": "stdout",
          "text": [
            "Validation Accuracy: 0.9746\n",
            "----> New best model saved\n",
            "\n",
            "Epoch 7/35\n"
          ]
        },
        {
          "output_type": "stream",
          "name": "stderr",
          "text": [
            "Training: 100%|██████████| 572/572 [01:48<00:00,  5.29it/s]\n",
            "Validation: 100%|██████████| 143/143 [00:09<00:00, 15.60it/s]\n"
          ]
        },
        {
          "output_type": "stream",
          "name": "stdout",
          "text": [
            "Validation Accuracy: 0.9773\n",
            "----> New best model saved\n",
            "\n",
            "Epoch 8/35\n"
          ]
        },
        {
          "output_type": "stream",
          "name": "stderr",
          "text": [
            "Training: 100%|██████████| 572/572 [01:48<00:00,  5.29it/s]\n",
            "Validation: 100%|██████████| 143/143 [00:09<00:00, 15.05it/s]\n"
          ]
        },
        {
          "output_type": "stream",
          "name": "stdout",
          "text": [
            "Validation Accuracy: 0.9781\n",
            "----> New best model saved\n",
            "\n",
            "Epoch 9/35\n"
          ]
        },
        {
          "output_type": "stream",
          "name": "stderr",
          "text": [
            "Training: 100%|██████████| 572/572 [01:47<00:00,  5.30it/s]\n",
            "Validation: 100%|██████████| 143/143 [00:08<00:00, 16.18it/s]\n"
          ]
        },
        {
          "output_type": "stream",
          "name": "stdout",
          "text": [
            "Validation Accuracy: 0.9816\n",
            "----> New best model saved\n",
            "\n",
            "Epoch 10/35\n"
          ]
        },
        {
          "output_type": "stream",
          "name": "stderr",
          "text": [
            "Training: 100%|██████████| 572/572 [01:48<00:00,  5.29it/s]\n",
            "Validation: 100%|██████████| 143/143 [00:09<00:00, 14.81it/s]\n"
          ]
        },
        {
          "output_type": "stream",
          "name": "stdout",
          "text": [
            "Validation Accuracy: 0.9799\n",
            "\n",
            "Epoch 11/35\n"
          ]
        },
        {
          "output_type": "stream",
          "name": "stderr",
          "text": [
            "Training: 100%|██████████| 572/572 [01:48<00:00,  5.29it/s]\n",
            "Validation: 100%|██████████| 143/143 [00:08<00:00, 16.27it/s]\n"
          ]
        },
        {
          "output_type": "stream",
          "name": "stdout",
          "text": [
            "Validation Accuracy: 0.9825\n",
            "----> New best model saved\n",
            "\n",
            "Epoch 12/35\n"
          ]
        },
        {
          "output_type": "stream",
          "name": "stderr",
          "text": [
            "Training: 100%|██████████| 572/572 [01:48<00:00,  5.29it/s]\n",
            "Validation: 100%|██████████| 143/143 [00:09<00:00, 15.11it/s]\n"
          ]
        },
        {
          "output_type": "stream",
          "name": "stdout",
          "text": [
            "Validation Accuracy: 0.9764\n",
            "\n",
            "Epoch 13/35\n"
          ]
        },
        {
          "output_type": "stream",
          "name": "stderr",
          "text": [
            "Training: 100%|██████████| 572/572 [01:48<00:00,  5.28it/s]\n",
            "Validation: 100%|██████████| 143/143 [00:08<00:00, 16.31it/s]\n"
          ]
        },
        {
          "output_type": "stream",
          "name": "stdout",
          "text": [
            "Validation Accuracy: 0.9843\n",
            "----> New best model saved\n",
            "\n",
            "Epoch 14/35\n"
          ]
        },
        {
          "output_type": "stream",
          "name": "stderr",
          "text": [
            "Training: 100%|██████████| 572/572 [01:48<00:00,  5.28it/s]\n",
            "Validation: 100%|██████████| 143/143 [00:09<00:00, 14.93it/s]\n"
          ]
        },
        {
          "output_type": "stream",
          "name": "stdout",
          "text": [
            "Validation Accuracy: 0.9851\n",
            "----> New best model saved\n",
            "\n",
            "Epoch 15/35\n"
          ]
        },
        {
          "output_type": "stream",
          "name": "stderr",
          "text": [
            "Training: 100%|██████████| 572/572 [01:48<00:00,  5.27it/s]\n",
            "Validation: 100%|██████████| 143/143 [00:09<00:00, 15.79it/s]\n"
          ]
        },
        {
          "output_type": "stream",
          "name": "stdout",
          "text": [
            "Validation Accuracy: 0.9834\n",
            "\n",
            "Epoch 16/35\n"
          ]
        },
        {
          "output_type": "stream",
          "name": "stderr",
          "text": [
            "Training: 100%|██████████| 572/572 [01:48<00:00,  5.27it/s]\n",
            "Validation: 100%|██████████| 143/143 [00:09<00:00, 14.99it/s]\n"
          ]
        },
        {
          "output_type": "stream",
          "name": "stdout",
          "text": [
            "Validation Accuracy: 0.9825\n",
            "\n",
            "Epoch 17/35\n"
          ]
        },
        {
          "output_type": "stream",
          "name": "stderr",
          "text": [
            "Training: 100%|██████████| 572/572 [01:48<00:00,  5.29it/s]\n",
            "Validation: 100%|██████████| 143/143 [00:09<00:00, 15.28it/s]\n"
          ]
        },
        {
          "output_type": "stream",
          "name": "stdout",
          "text": [
            "Validation Accuracy: 0.9860\n",
            "----> New best model saved\n",
            "\n",
            "Epoch 18/35\n"
          ]
        },
        {
          "output_type": "stream",
          "name": "stderr",
          "text": [
            "Training: 100%|██████████| 572/572 [01:48<00:00,  5.28it/s]\n",
            "Validation: 100%|██████████| 143/143 [00:09<00:00, 14.98it/s]\n"
          ]
        },
        {
          "output_type": "stream",
          "name": "stdout",
          "text": [
            "Validation Accuracy: 0.9869\n",
            "----> New best model saved\n",
            "\n",
            "Epoch 19/35\n"
          ]
        },
        {
          "output_type": "stream",
          "name": "stderr",
          "text": [
            "Training: 100%|██████████| 572/572 [01:48<00:00,  5.29it/s]\n",
            "Validation: 100%|██████████| 143/143 [00:09<00:00, 15.00it/s]\n"
          ]
        },
        {
          "output_type": "stream",
          "name": "stdout",
          "text": [
            "Validation Accuracy: 0.9878\n",
            "----> New best model saved\n",
            "\n",
            "Epoch 20/35\n"
          ]
        },
        {
          "output_type": "stream",
          "name": "stderr",
          "text": [
            "Training: 100%|██████████| 572/572 [01:48<00:00,  5.30it/s]\n",
            "Validation: 100%|██████████| 143/143 [00:09<00:00, 14.98it/s]\n"
          ]
        },
        {
          "output_type": "stream",
          "name": "stdout",
          "text": [
            "Validation Accuracy: 0.9843\n",
            "\n",
            "Epoch 21/35\n"
          ]
        },
        {
          "output_type": "stream",
          "name": "stderr",
          "text": [
            "Training: 100%|██████████| 572/572 [01:48<00:00,  5.28it/s]\n",
            "Validation: 100%|██████████| 143/143 [00:09<00:00, 15.12it/s]\n"
          ]
        },
        {
          "output_type": "stream",
          "name": "stdout",
          "text": [
            "Validation Accuracy: 0.9878\n",
            "\n",
            "Epoch 22/35\n"
          ]
        },
        {
          "output_type": "stream",
          "name": "stderr",
          "text": [
            "Training: 100%|██████████| 572/572 [01:48<00:00,  5.29it/s]\n",
            "Validation: 100%|██████████| 143/143 [00:09<00:00, 15.34it/s]\n"
          ]
        },
        {
          "output_type": "stream",
          "name": "stdout",
          "text": [
            "Validation Accuracy: 0.9843\n",
            "\n",
            "Epoch 23/35\n"
          ]
        },
        {
          "output_type": "stream",
          "name": "stderr",
          "text": [
            "Training: 100%|██████████| 572/572 [01:48<00:00,  5.30it/s]\n",
            "Validation: 100%|██████████| 143/143 [00:09<00:00, 15.17it/s]\n"
          ]
        },
        {
          "output_type": "stream",
          "name": "stdout",
          "text": [
            "Validation Accuracy: 0.9869\n",
            "\n",
            "Epoch 24/35\n"
          ]
        },
        {
          "output_type": "stream",
          "name": "stderr",
          "text": [
            "Training: 100%|██████████| 572/572 [01:48<00:00,  5.27it/s]\n",
            "Validation: 100%|██████████| 143/143 [00:09<00:00, 15.43it/s]\n"
          ]
        },
        {
          "output_type": "stream",
          "name": "stdout",
          "text": [
            "Validation Accuracy: 0.9860\n",
            "\n",
            "Epoch 25/35\n"
          ]
        },
        {
          "output_type": "stream",
          "name": "stderr",
          "text": [
            "Training: 100%|██████████| 572/572 [01:48<00:00,  5.27it/s]\n",
            "Validation: 100%|██████████| 143/143 [00:09<00:00, 14.80it/s]\n"
          ]
        },
        {
          "output_type": "stream",
          "name": "stdout",
          "text": [
            "Validation Accuracy: 0.9869\n",
            "\n",
            "Epoch 26/35\n"
          ]
        },
        {
          "output_type": "stream",
          "name": "stderr",
          "text": [
            "Training: 100%|██████████| 572/572 [01:48<00:00,  5.29it/s]\n",
            "Validation: 100%|██████████| 143/143 [00:09<00:00, 15.03it/s]\n"
          ]
        },
        {
          "output_type": "stream",
          "name": "stdout",
          "text": [
            "Validation Accuracy: 0.9860\n",
            "\n",
            "Epoch 27/35\n"
          ]
        },
        {
          "output_type": "stream",
          "name": "stderr",
          "text": [
            "Training: 100%|██████████| 572/572 [01:48<00:00,  5.27it/s]\n",
            "Validation: 100%|██████████| 143/143 [00:09<00:00, 14.80it/s]\n"
          ]
        },
        {
          "output_type": "stream",
          "name": "stdout",
          "text": [
            "Validation Accuracy: 0.9825\n",
            "\n",
            "Epoch 28/35\n"
          ]
        },
        {
          "output_type": "stream",
          "name": "stderr",
          "text": [
            "Training: 100%|██████████| 572/572 [01:48<00:00,  5.29it/s]\n",
            "Validation: 100%|██████████| 143/143 [00:09<00:00, 15.52it/s]\n"
          ]
        },
        {
          "output_type": "stream",
          "name": "stdout",
          "text": [
            "Validation Accuracy: 0.9860\n",
            "\n",
            "Epoch 29/35\n"
          ]
        },
        {
          "output_type": "stream",
          "name": "stderr",
          "text": [
            "Training: 100%|██████████| 572/572 [01:48<00:00,  5.28it/s]\n",
            "Validation: 100%|██████████| 143/143 [00:09<00:00, 15.07it/s]\n"
          ]
        },
        {
          "output_type": "stream",
          "name": "stdout",
          "text": [
            "Validation Accuracy: 0.9799\n",
            "\n",
            "Epoch 30/35\n"
          ]
        },
        {
          "output_type": "stream",
          "name": "stderr",
          "text": [
            "Training: 100%|██████████| 572/572 [01:48<00:00,  5.28it/s]\n",
            "Validation: 100%|██████████| 143/143 [00:09<00:00, 15.61it/s]\n"
          ]
        },
        {
          "output_type": "stream",
          "name": "stdout",
          "text": [
            "Validation Accuracy: 0.9860\n",
            "\n",
            "Epoch 31/35\n"
          ]
        },
        {
          "output_type": "stream",
          "name": "stderr",
          "text": [
            "Training: 100%|██████████| 572/572 [01:48<00:00,  5.28it/s]\n",
            "Validation: 100%|██████████| 143/143 [00:09<00:00, 14.98it/s]\n"
          ]
        },
        {
          "output_type": "stream",
          "name": "stdout",
          "text": [
            "Validation Accuracy: 0.9860\n",
            "\n",
            "Epoch 32/35\n"
          ]
        },
        {
          "output_type": "stream",
          "name": "stderr",
          "text": [
            "Training: 100%|██████████| 572/572 [01:47<00:00,  5.30it/s]\n",
            "Validation: 100%|██████████| 143/143 [00:09<00:00, 15.57it/s]\n"
          ]
        },
        {
          "output_type": "stream",
          "name": "stdout",
          "text": [
            "Validation Accuracy: 0.9843\n",
            "\n",
            "Epoch 33/35\n"
          ]
        },
        {
          "output_type": "stream",
          "name": "stderr",
          "text": [
            "Training: 100%|██████████| 572/572 [01:48<00:00,  5.27it/s]\n",
            "Validation: 100%|██████████| 143/143 [00:09<00:00, 15.08it/s]\n"
          ]
        },
        {
          "output_type": "stream",
          "name": "stdout",
          "text": [
            "Validation Accuracy: 0.9834\n",
            "\n",
            "Epoch 34/35\n"
          ]
        },
        {
          "output_type": "stream",
          "name": "stderr",
          "text": [
            "Training: 100%|██████████| 572/572 [01:48<00:00,  5.29it/s]\n",
            "Validation: 100%|██████████| 143/143 [00:09<00:00, 15.65it/s]\n"
          ]
        },
        {
          "output_type": "stream",
          "name": "stdout",
          "text": [
            "Validation Accuracy: 0.9851\n",
            "\n",
            "Epoch 35/35\n"
          ]
        },
        {
          "output_type": "stream",
          "name": "stderr",
          "text": [
            "Training: 100%|██████████| 572/572 [01:48<00:00,  5.29it/s]\n",
            "Validation: 100%|██████████| 143/143 [00:09<00:00, 14.91it/s]\n"
          ]
        },
        {
          "output_type": "stream",
          "name": "stdout",
          "text": [
            "Validation Accuracy: 0.9904\n",
            "----> New best model saved\n",
            "\n",
            "Finished Training for maxvit_tiny_tf_224!\n",
            "\n",
            "Best Validation Accuracy for Tiny MaxViT (Experiment 1): 0.9904\n"
          ]
        }
      ]
    },
    {
      "cell_type": "code",
      "source": [
        "# --- This is the code for YOUR project (Swin + MaxViT) ---\n",
        "print(\"--- Running Final Evaluation for Srivaishnavi's Project ---\")\n",
        "\n",
        "# Define the EXACT model names YOU trained\n",
        "swin_model_name = 'swin_tiny_patch4_window7_224'\n",
        "maxvit_model_name = 'maxvit_tiny_tf_224'\n",
        "\n",
        "# Call the function for each of your models\n",
        "# IMPORTANT: Make sure the files 'swin_tiny..._best.pth' and 'maxvit_tiny..._best.pth' are in your /content/ directory.\n",
        "# If they are not there, you must re-run the training for them first.\n",
        "evaluate_model(swin_model_name, test_loader, label_map)\n",
        "evaluate_model(maxvit_model_name, test_loader, label_map)"
      ],
      "metadata": {
        "colab": {
          "base_uri": "https://localhost:8080/",
          "height": 1000
        },
        "id": "xIbarip0b2hd",
        "outputId": "ce80231d-6f71-4c6b-e41a-6a24614c386d"
      },
      "execution_count": 34,
      "outputs": [
        {
          "output_type": "stream",
          "name": "stdout",
          "text": [
            "--- Running Final Evaluation for Srivaishnavi's Project ---\n",
            "\n",
            "======================================================\n",
            "   Starting Evaluation for: swin_tiny_patch4_window7_224\n",
            "======================================================\n"
          ]
        },
        {
          "output_type": "stream",
          "name": "stderr",
          "text": [
            "Evaluating swin_tiny_patch4_window7_224: 100%|██████████| 164/164 [00:07<00:00, 21.57it/s]\n"
          ]
        },
        {
          "output_type": "stream",
          "name": "stdout",
          "text": [
            "\n",
            "--- Evaluation Report for swin_tiny_patch4_window7_224 ---\n",
            "Accuracy: 0.9900839054157132\n",
            "\n",
            "Classification Report:\n",
            "              precision    recall  f1-score   support\n",
            "\n",
            "      glioma       1.00      0.98      0.99       300\n",
            "  meningioma       0.97      0.99      0.98       306\n",
            "     notumor       0.99      1.00      0.99       405\n",
            "   pituitary       0.99      0.99      0.99       300\n",
            "\n",
            "    accuracy                           0.99      1311\n",
            "   macro avg       0.99      0.99      0.99      1311\n",
            "weighted avg       0.99      0.99      0.99      1311\n",
            "\n"
          ]
        },
        {
          "output_type": "display_data",
          "data": {
            "text/plain": [
              "<Figure size 800x600 with 2 Axes>"
            ],
            "image/png": "[encoded data removed]"
          },
          "metadata": {}
        },
        {
          "output_type": "stream",
          "name": "stdout",
          "text": [
            "\n",
            "======================================================\n",
            "   Starting Evaluation for: maxvit_tiny_tf_224\n",
            "======================================================\n"
          ]
        },
        {
          "output_type": "stream",
          "name": "stderr",
          "text": [
            "Evaluating maxvit_tiny_tf_224: 100%|██████████| 164/164 [00:10<00:00, 14.97it/s]\n"
          ]
        },
        {
          "output_type": "stream",
          "name": "stdout",
          "text": [
            "\n",
            "--- Evaluation Report for maxvit_tiny_tf_224 ---\n",
            "Accuracy: 0.9916094584286804\n",
            "\n",
            "Classification Report:\n",
            "              precision    recall  f1-score   support\n",
            "\n",
            "      glioma       1.00      0.98      0.99       300\n",
            "  meningioma       0.97      0.99      0.98       306\n",
            "     notumor       1.00      1.00      1.00       405\n",
            "   pituitary       1.00      1.00      1.00       300\n",
            "\n",
            "    accuracy                           0.99      1311\n",
            "   macro avg       0.99      0.99      0.99      1311\n",
            "weighted avg       0.99      0.99      0.99      1311\n",
            "\n"
          ]
        },
        {
          "output_type": "display_data",
          "data": {
            "text/plain": [
              "<Figure size 800x600 with 2 Axes>"
            ],
            "image/png": "[encoded data removed]"
          },
          "metadata": {}
        }
      ]
    }
  ]
}